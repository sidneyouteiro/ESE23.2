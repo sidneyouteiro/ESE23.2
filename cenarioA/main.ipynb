{
 "cells": [
  {
   "cell_type": "markdown",
   "metadata": {},
   "source": [
    "# Importação das bibliotecas utilizadas na Analise"
   ]
  },
  {
   "cell_type": "code",
   "execution_count": 16,
   "metadata": {},
   "outputs": [],
   "source": [
    "import pandas as pd\n",
    "import numpy as np\n",
    "import warnings\n",
    "\n",
    "# Funções auxiliares\n",
    "from utils.A_utils import dist_cumulativa, plot_boxplot\n",
    "from utils.A_utils import teste_shapiro, teste_levene, teste_mannwhitneyu\n",
    "from utils.A_utils import avaliacao_teste_shapiro, agrupar, remocao_todos_outliers\n",
    "\n",
    "warnings.filterwarnings('ignore')"
   ]
  },
  {
   "cell_type": "markdown",
   "metadata": {},
   "source": [
    "# Conjunto de dados fornecidos pela empresa ACME\n",
    "\n",
    "Importação dos dados para analise"
   ]
  },
  {
   "cell_type": "markdown",
   "metadata": {},
   "source": [
    "<img src=\"https://www.beaconjournal.com/gcdn/presto/2022/02/17/NABJ/9f2016aa-be3c-4dbb-a1cb-0de34fb5a69e-Coyote_Acme_Warner_Bros..jpg?width=660&height=330&fit=crop&format=pjpg&auto=webp\">"
   ]
  },
  {
   "cell_type": "code",
   "execution_count": 17,
   "metadata": {},
   "outputs": [],
   "source": [
    "( \n",
    "    axadefeito,acme,\n",
    "    participacao,\n",
    "    desenvolvedores\n",
    ") = pd.read_excel('../ACME_dataset_1.xlsx',sheet_name=None).values()"
   ]
  },
  {
   "cell_type": "markdown",
   "metadata": {},
   "source": [
    "# Pré-processamento dos dados"
   ]
  },
  {
   "cell_type": "markdown",
   "metadata": {},
   "source": [
    "## Agrupando os dados de projetos que utilizaram a técnica ad-hoc e a técnica axadefeito no mesmo dataframe"
   ]
  },
  {
   "cell_type": "code",
   "execution_count": 18,
   "metadata": {},
   "outputs": [
    {
     "data": {
      "text/html": [
       "<div>\n",
       "<style scoped>\n",
       "    .dataframe tbody tr th:only-of-type {\n",
       "        vertical-align: middle;\n",
       "    }\n",
       "\n",
       "    .dataframe tbody tr th {\n",
       "        vertical-align: top;\n",
       "    }\n",
       "\n",
       "    .dataframe thead th {\n",
       "        text-align: right;\n",
       "    }\n",
       "</style>\n",
       "<table border=\"1\" class=\"dataframe\">\n",
       "  <thead>\n",
       "    <tr style=\"text-align: right;\">\n",
       "      <th></th>\n",
       "      <th>Projeto</th>\n",
       "      <th>Porte</th>\n",
       "      <th>Técnica</th>\n",
       "      <th>Tempo Inspeçao (horas)</th>\n",
       "      <th>Defeitos</th>\n",
       "      <th>Esforço (h/h)</th>\n",
       "      <th>Tamanho (Kloc)</th>\n",
       "      <th>Produtividade (kloc/mês)</th>\n",
       "    </tr>\n",
       "  </thead>\n",
       "  <tbody>\n",
       "    <tr>\n",
       "      <th>0</th>\n",
       "      <td>1</td>\n",
       "      <td>Pequeno</td>\n",
       "      <td>ACME</td>\n",
       "      <td>0.0</td>\n",
       "      <td>0</td>\n",
       "      <td>5.25</td>\n",
       "      <td>7</td>\n",
       "      <td>5.333333</td>\n",
       "    </tr>\n",
       "    <tr>\n",
       "      <th>1</th>\n",
       "      <td>2</td>\n",
       "      <td>Pequeno</td>\n",
       "      <td>ACME</td>\n",
       "      <td>0.0</td>\n",
       "      <td>0</td>\n",
       "      <td>7.50</td>\n",
       "      <td>10</td>\n",
       "      <td>5.333333</td>\n",
       "    </tr>\n",
       "    <tr>\n",
       "      <th>2</th>\n",
       "      <td>3</td>\n",
       "      <td>Pequeno</td>\n",
       "      <td>AXADEFEITO</td>\n",
       "      <td>0.0</td>\n",
       "      <td>0</td>\n",
       "      <td>7.50</td>\n",
       "      <td>10</td>\n",
       "      <td>5.333333</td>\n",
       "    </tr>\n",
       "    <tr>\n",
       "      <th>3</th>\n",
       "      <td>4</td>\n",
       "      <td>Pequeno</td>\n",
       "      <td>AXADEFEITO</td>\n",
       "      <td>0.0</td>\n",
       "      <td>0</td>\n",
       "      <td>8.00</td>\n",
       "      <td>7</td>\n",
       "      <td>3.500000</td>\n",
       "    </tr>\n",
       "    <tr>\n",
       "      <th>4</th>\n",
       "      <td>5</td>\n",
       "      <td>Médio</td>\n",
       "      <td>ACME</td>\n",
       "      <td>4.0</td>\n",
       "      <td>0</td>\n",
       "      <td>39.25</td>\n",
       "      <td>51</td>\n",
       "      <td>5.197452</td>\n",
       "    </tr>\n",
       "  </tbody>\n",
       "</table>\n",
       "</div>"
      ],
      "text/plain": [
       "   Projeto    Porte     Técnica  Tempo Inspeçao (horas)  Defeitos  \\\n",
       "0        1  Pequeno        ACME                     0.0         0   \n",
       "1        2  Pequeno        ACME                     0.0         0   \n",
       "2        3  Pequeno  AXADEFEITO                     0.0         0   \n",
       "3        4  Pequeno  AXADEFEITO                     0.0         0   \n",
       "4        5    Médio        ACME                     4.0         0   \n",
       "\n",
       "   Esforço (h/h)  Tamanho (Kloc)  Produtividade (kloc/mês)  \n",
       "0           5.25               7                  5.333333  \n",
       "1           7.50              10                  5.333333  \n",
       "2           7.50              10                  5.333333  \n",
       "3           8.00               7                  3.500000  \n",
       "4          39.25              51                  5.197452  "
      ]
     },
     "execution_count": 18,
     "metadata": {},
     "output_type": "execute_result"
    }
   ],
   "source": [
    "projetos = pd.concat([acme,axadefeito]).sort_values(by='Projeto').reset_index(drop=True).drop(columns='SUCESSO')\n",
    "projetos.head()"
   ]
  },
  {
   "cell_type": "markdown",
   "metadata": {},
   "source": [
    "## Extraindo apenas projetos que realizaram Inspeção"
   ]
  },
  {
   "cell_type": "code",
   "execution_count": 19,
   "metadata": {},
   "outputs": [],
   "source": [
    "projetos_utilizaveis = projetos.loc[projetos['Tempo Inspeçao (horas)'] > 0].copy()"
   ]
  },
  {
   "cell_type": "markdown",
   "metadata": {},
   "source": [
    "Como não tem como associar a participação dos desenvolvedores nos projetos que estão usado a técnica axadefeito, então não seria possivel comparar grupos de devs similares usando técnicas distintas "
   ]
  },
  {
   "cell_type": "markdown",
   "metadata": {},
   "source": [
    "## Criação da coluna '#Defeitos/TempoInspecao' e separação das colunas de interesse"
   ]
  },
  {
   "cell_type": "code",
   "execution_count": 20,
   "metadata": {},
   "outputs": [],
   "source": [
    "projetos_utilizaveis.loc[:,'#Defeitos/TempoInspecao'] = projetos_utilizaveis['Defeitos'].div(\n",
    "    projetos_utilizaveis['Tempo Inspeçao (horas)'])\n",
    "\n",
    "colunas_de_interesse = [\n",
    "    'Tempo Inspeçao (horas)', 'Defeitos',\n",
    "    '#Defeitos/TempoInspecao'\n",
    "]"
   ]
  },
  {
   "cell_type": "markdown",
   "metadata": {},
   "source": [
    "# Análise descritiva em função do porte e das técnicas"
   ]
  },
  {
   "cell_type": "code",
   "execution_count": 21,
   "metadata": {},
   "outputs": [
    {
     "data": {
      "image/png": "[encoded data removed]",
      "text/plain": [
       "<Figure size 1500x500 with 3 Axes>"
      ]
     },
     "metadata": {},
     "output_type": "display_data"
    }
   ],
   "source": [
    "plot_boxplot(projetos_utilizaveis,colunas_de_interesse)"
   ]
  },
  {
   "cell_type": "markdown",
   "metadata": {},
   "source": [
    "Na coluna '#Defeitos/TempoInspecao' temos que projetos de Pequeno e Grande porte obtiveram desempenho iguais ao alternar apenas a técnica de inspeção. Contudo, em projetos de médio porte há índicios de que a técnica Axadefeito tenha desempenhado melhor papel na detecção de defeitos do que com inspeção ad-hoc da empresa ACME"
   ]
  },
  {
   "cell_type": "code",
   "execution_count": 22,
   "metadata": {},
   "outputs": [
    {
     "data": {
      "image/png": "[encoded data removed]",
      "text/plain": [
       "<Figure size 1500x500 with 3 Axes>"
      ]
     },
     "metadata": {},
     "output_type": "display_data"
    }
   ],
   "source": [
    "dist_cumulativa(projetos_utilizaveis)"
   ]
  },
  {
   "cell_type": "markdown",
   "metadata": {},
   "source": [
    "O histograma cumulativo indica que, embora ambas as técnicas apresentem desempenhos semelhantes, o tempo de inspeção em projetos de pequeno e médio porte é reduzido ao usar a técnica Axadefeito."
   ]
  },
  {
   "cell_type": "markdown",
   "metadata": {},
   "source": [
    "# Testes de Hipotéses"
   ]
  },
  {
   "cell_type": "markdown",
   "metadata": {},
   "source": [
    "## Identificação do tamanho das amostras"
   ]
  },
  {
   "cell_type": "code",
   "execution_count": 23,
   "metadata": {},
   "outputs": [],
   "source": [
    "porte_tecnica_group = projetos_utilizaveis.groupby(by=['Porte','Técnica'])"
   ]
  },
  {
   "cell_type": "code",
   "execution_count": 24,
   "metadata": {},
   "outputs": [
    {
     "data": {
      "text/html": [
       "<div>\n",
       "<style scoped>\n",
       "    .dataframe tbody tr th:only-of-type {\n",
       "        vertical-align: middle;\n",
       "    }\n",
       "\n",
       "    .dataframe tbody tr th {\n",
       "        vertical-align: top;\n",
       "    }\n",
       "\n",
       "    .dataframe thead th {\n",
       "        text-align: right;\n",
       "    }\n",
       "</style>\n",
       "<table border=\"1\" class=\"dataframe\">\n",
       "  <thead>\n",
       "    <tr style=\"text-align: right;\">\n",
       "      <th></th>\n",
       "      <th></th>\n",
       "      <th>Projeto</th>\n",
       "    </tr>\n",
       "    <tr>\n",
       "      <th>Porte</th>\n",
       "      <th>Técnica</th>\n",
       "      <th></th>\n",
       "    </tr>\n",
       "  </thead>\n",
       "  <tbody>\n",
       "    <tr>\n",
       "      <th rowspan=\"2\" valign=\"top\">Grande</th>\n",
       "      <th>ACME</th>\n",
       "      <td>47</td>\n",
       "    </tr>\n",
       "    <tr>\n",
       "      <th>AXADEFEITO</th>\n",
       "      <td>49</td>\n",
       "    </tr>\n",
       "    <tr>\n",
       "      <th rowspan=\"2\" valign=\"top\">Médio</th>\n",
       "      <th>ACME</th>\n",
       "      <td>26</td>\n",
       "    </tr>\n",
       "    <tr>\n",
       "      <th>AXADEFEITO</th>\n",
       "      <td>23</td>\n",
       "    </tr>\n",
       "    <tr>\n",
       "      <th rowspan=\"2\" valign=\"top\">Pequeno</th>\n",
       "      <th>ACME</th>\n",
       "      <td>24</td>\n",
       "    </tr>\n",
       "    <tr>\n",
       "      <th>AXADEFEITO</th>\n",
       "      <td>21</td>\n",
       "    </tr>\n",
       "  </tbody>\n",
       "</table>\n",
       "</div>"
      ],
      "text/plain": [
       "                    Projeto\n",
       "Porte   Técnica            \n",
       "Grande  ACME             47\n",
       "        AXADEFEITO       49\n",
       "Médio   ACME             26\n",
       "        AXADEFEITO       23\n",
       "Pequeno ACME             24\n",
       "        AXADEFEITO       21"
      ]
     },
     "execution_count": 24,
     "metadata": {},
     "output_type": "execute_result"
    }
   ],
   "source": [
    "porte_tecnica_group['Projeto'].count().to_frame()"
   ]
  },
  {
   "cell_type": "markdown",
   "metadata": {},
   "source": [
    "## Teste de Shapiro-Wilk para identificar se as amostras possuem distribuição normal\n",
    "Utilizaremos o teste de Shapiro-Wilk para verificar se uma amostra de dados segue uma distribuição normal"
   ]
  },
  {
   "cell_type": "code",
   "execution_count": 25,
   "metadata": {},
   "outputs": [],
   "source": [
    "idx_list, dict_tests = teste_shapiro(porte_tecnica_group,colunas_de_interesse)"
   ]
  },
  {
   "cell_type": "markdown",
   "metadata": {},
   "source": [
    "### Utilização de alfa = 0.05 para determinar se será possivel rejeitar a hipotése nula do teste de shapiro-wilk\n",
    "\n",
    "O teste de Shapiro-Wilk formula a hipótese nula (H0) de que os dados são provenientes de uma população normalmente distribuída. Um valor de alfa baixo (geralmente menor que 0,05) indica que você deve rejeitar a hipótese nula, sugerindo que os dados não seguem uma distribuição normal. Por outro lado, um valor de alfa elevado sugere que os dados podem ser considerados como provenientes de uma distribuição normal."
   ]
  },
  {
   "cell_type": "code",
   "execution_count": 26,
   "metadata": {},
   "outputs": [
    {
     "data": {
      "text/html": [
       "<div>\n",
       "<style scoped>\n",
       "    .dataframe tbody tr th:only-of-type {\n",
       "        vertical-align: middle;\n",
       "    }\n",
       "\n",
       "    .dataframe tbody tr th {\n",
       "        vertical-align: top;\n",
       "    }\n",
       "\n",
       "    .dataframe thead th {\n",
       "        text-align: right;\n",
       "    }\n",
       "</style>\n",
       "<table border=\"1\" class=\"dataframe\">\n",
       "  <thead>\n",
       "    <tr style=\"text-align: right;\">\n",
       "      <th></th>\n",
       "      <th></th>\n",
       "      <th>Tempo Inspeçao (horas)-Shapiro</th>\n",
       "      <th>Defeitos-Shapiro</th>\n",
       "      <th>#Defeitos/TempoInspecao-Shapiro</th>\n",
       "      <th>Tempo Inspeçao (horas)-ShapiroResultado</th>\n",
       "      <th>Defeitos-ShapiroResultado</th>\n",
       "      <th>#Defeitos/TempoInspecao-ShapiroResultado</th>\n",
       "    </tr>\n",
       "  </thead>\n",
       "  <tbody>\n",
       "    <tr>\n",
       "      <th rowspan=\"2\" valign=\"top\">Grande</th>\n",
       "      <th>ACME</th>\n",
       "      <td>(0.6524451971054077, 2.7145226066949135e-09)</td>\n",
       "      <td>(0.6524451971054077, 2.7145226066949135e-09)</td>\n",
       "      <td>(1.0, 1.0)</td>\n",
       "      <td>H0 rejeitada</td>\n",
       "      <td>H0 rejeitada</td>\n",
       "      <td>H0 não pode ser rejeitada</td>\n",
       "    </tr>\n",
       "    <tr>\n",
       "      <th>AXADEFEITO</th>\n",
       "      <td>(0.660088300704956, 2.1773671754488078e-09)</td>\n",
       "      <td>(0.660088300704956, 2.1773671754488078e-09)</td>\n",
       "      <td>(1.0, 1.0)</td>\n",
       "      <td>H0 rejeitada</td>\n",
       "      <td>H0 rejeitada</td>\n",
       "      <td>H0 não pode ser rejeitada</td>\n",
       "    </tr>\n",
       "    <tr>\n",
       "      <th rowspan=\"2\" valign=\"top\">Médio</th>\n",
       "      <th>ACME</th>\n",
       "      <td>(0.38274580240249634, 2.0139641065952674e-09)</td>\n",
       "      <td>(0.49988752603530884, 2.4935355114052982e-08)</td>\n",
       "      <td>(0.9260732531547546, 0.06251519173383713)</td>\n",
       "      <td>H0 rejeitada</td>\n",
       "      <td>H0 rejeitada</td>\n",
       "      <td>H0 não pode ser rejeitada</td>\n",
       "    </tr>\n",
       "    <tr>\n",
       "      <th>AXADEFEITO</th>\n",
       "      <td>(0.8943251967430115, 0.01934642158448696)</td>\n",
       "      <td>(0.9019625186920166, 0.02775290608406067)</td>\n",
       "      <td>(0.892756998538971, 0.017979398369789124)</td>\n",
       "      <td>H0 rejeitada</td>\n",
       "      <td>H0 rejeitada</td>\n",
       "      <td>H0 rejeitada</td>\n",
       "    </tr>\n",
       "    <tr>\n",
       "      <th rowspan=\"2\" valign=\"top\">Pequeno</th>\n",
       "      <th>ACME</th>\n",
       "      <td>(0.48917537927627563, 4.433870515185845e-08)</td>\n",
       "      <td>(0.48917537927627563, 4.433870515185845e-08)</td>\n",
       "      <td>(1.0, 1.0)</td>\n",
       "      <td>H0 rejeitada</td>\n",
       "      <td>H0 rejeitada</td>\n",
       "      <td>H0 não pode ser rejeitada</td>\n",
       "    </tr>\n",
       "    <tr>\n",
       "      <th>AXADEFEITO</th>\n",
       "      <td>(0.8885175585746765, 0.02108931913971901)</td>\n",
       "      <td>(0.8885175585746765, 0.02108931913971901)</td>\n",
       "      <td>(1.0, 1.0)</td>\n",
       "      <td>H0 rejeitada</td>\n",
       "      <td>H0 rejeitada</td>\n",
       "      <td>H0 não pode ser rejeitada</td>\n",
       "    </tr>\n",
       "  </tbody>\n",
       "</table>\n",
       "</div>"
      ],
      "text/plain": [
       "                                   Tempo Inspeçao (horas)-Shapiro  \\\n",
       "Grande  ACME         (0.6524451971054077, 2.7145226066949135e-09)   \n",
       "        AXADEFEITO    (0.660088300704956, 2.1773671754488078e-09)   \n",
       "Médio   ACME        (0.38274580240249634, 2.0139641065952674e-09)   \n",
       "        AXADEFEITO      (0.8943251967430115, 0.01934642158448696)   \n",
       "Pequeno ACME         (0.48917537927627563, 4.433870515185845e-08)   \n",
       "        AXADEFEITO      (0.8885175585746765, 0.02108931913971901)   \n",
       "\n",
       "                                                 Defeitos-Shapiro  \\\n",
       "Grande  ACME         (0.6524451971054077, 2.7145226066949135e-09)   \n",
       "        AXADEFEITO    (0.660088300704956, 2.1773671754488078e-09)   \n",
       "Médio   ACME        (0.49988752603530884, 2.4935355114052982e-08)   \n",
       "        AXADEFEITO      (0.9019625186920166, 0.02775290608406067)   \n",
       "Pequeno ACME         (0.48917537927627563, 4.433870515185845e-08)   \n",
       "        AXADEFEITO      (0.8885175585746765, 0.02108931913971901)   \n",
       "\n",
       "                              #Defeitos/TempoInspecao-Shapiro  \\\n",
       "Grande  ACME                                       (1.0, 1.0)   \n",
       "        AXADEFEITO                                 (1.0, 1.0)   \n",
       "Médio   ACME        (0.9260732531547546, 0.06251519173383713)   \n",
       "        AXADEFEITO  (0.892756998538971, 0.017979398369789124)   \n",
       "Pequeno ACME                                       (1.0, 1.0)   \n",
       "        AXADEFEITO                                 (1.0, 1.0)   \n",
       "\n",
       "                   Tempo Inspeçao (horas)-ShapiroResultado  \\\n",
       "Grande  ACME                                  H0 rejeitada   \n",
       "        AXADEFEITO                            H0 rejeitada   \n",
       "Médio   ACME                                  H0 rejeitada   \n",
       "        AXADEFEITO                            H0 rejeitada   \n",
       "Pequeno ACME                                  H0 rejeitada   \n",
       "        AXADEFEITO                            H0 rejeitada   \n",
       "\n",
       "                   Defeitos-ShapiroResultado  \\\n",
       "Grande  ACME                    H0 rejeitada   \n",
       "        AXADEFEITO              H0 rejeitada   \n",
       "Médio   ACME                    H0 rejeitada   \n",
       "        AXADEFEITO              H0 rejeitada   \n",
       "Pequeno ACME                    H0 rejeitada   \n",
       "        AXADEFEITO              H0 rejeitada   \n",
       "\n",
       "                   #Defeitos/TempoInspecao-ShapiroResultado  \n",
       "Grande  ACME                      H0 não pode ser rejeitada  \n",
       "        AXADEFEITO                H0 não pode ser rejeitada  \n",
       "Médio   ACME                      H0 não pode ser rejeitada  \n",
       "        AXADEFEITO                             H0 rejeitada  \n",
       "Pequeno ACME                      H0 não pode ser rejeitada  \n",
       "        AXADEFEITO                H0 não pode ser rejeitada  "
      ]
     },
     "execution_count": 26,
     "metadata": {},
     "output_type": "execute_result"
    }
   ],
   "source": [
    "results = avaliacao_teste_shapiro(idx_list,dict_tests,alfa=0.05)\n",
    "results"
   ]
  },
  {
   "cell_type": "code",
   "execution_count": 27,
   "metadata": {},
   "outputs": [
    {
     "data": {
      "text/html": [
       "<div>\n",
       "<style scoped>\n",
       "    .dataframe tbody tr th:only-of-type {\n",
       "        vertical-align: middle;\n",
       "    }\n",
       "\n",
       "    .dataframe tbody tr th {\n",
       "        vertical-align: top;\n",
       "    }\n",
       "\n",
       "    .dataframe thead th {\n",
       "        text-align: right;\n",
       "    }\n",
       "</style>\n",
       "<table border=\"1\" class=\"dataframe\">\n",
       "  <thead>\n",
       "    <tr style=\"text-align: right;\">\n",
       "      <th></th>\n",
       "      <th></th>\n",
       "      <th>#Defeitos/TempoInspecao-ShapiroResultado</th>\n",
       "      <th>Defeitos-ShapiroResultado</th>\n",
       "      <th>Tempo Inspeçao (horas)-ShapiroResultado</th>\n",
       "    </tr>\n",
       "  </thead>\n",
       "  <tbody>\n",
       "    <tr>\n",
       "      <th rowspan=\"2\" valign=\"top\">Grande</th>\n",
       "      <th>ACME</th>\n",
       "      <td>H0 não pode ser rejeitada</td>\n",
       "      <td>H0 rejeitada</td>\n",
       "      <td>H0 rejeitada</td>\n",
       "    </tr>\n",
       "    <tr>\n",
       "      <th>AXADEFEITO</th>\n",
       "      <td>H0 não pode ser rejeitada</td>\n",
       "      <td>H0 rejeitada</td>\n",
       "      <td>H0 rejeitada</td>\n",
       "    </tr>\n",
       "    <tr>\n",
       "      <th rowspan=\"2\" valign=\"top\">Médio</th>\n",
       "      <th>ACME</th>\n",
       "      <td>H0 não pode ser rejeitada</td>\n",
       "      <td>H0 rejeitada</td>\n",
       "      <td>H0 rejeitada</td>\n",
       "    </tr>\n",
       "    <tr>\n",
       "      <th>AXADEFEITO</th>\n",
       "      <td>H0 rejeitada</td>\n",
       "      <td>H0 rejeitada</td>\n",
       "      <td>H0 rejeitada</td>\n",
       "    </tr>\n",
       "    <tr>\n",
       "      <th rowspan=\"2\" valign=\"top\">Pequeno</th>\n",
       "      <th>ACME</th>\n",
       "      <td>H0 não pode ser rejeitada</td>\n",
       "      <td>H0 rejeitada</td>\n",
       "      <td>H0 rejeitada</td>\n",
       "    </tr>\n",
       "    <tr>\n",
       "      <th>AXADEFEITO</th>\n",
       "      <td>H0 não pode ser rejeitada</td>\n",
       "      <td>H0 rejeitada</td>\n",
       "      <td>H0 rejeitada</td>\n",
       "    </tr>\n",
       "  </tbody>\n",
       "</table>\n",
       "</div>"
      ],
      "text/plain": [
       "                   #Defeitos/TempoInspecao-ShapiroResultado  \\\n",
       "Grande  ACME                      H0 não pode ser rejeitada   \n",
       "        AXADEFEITO                H0 não pode ser rejeitada   \n",
       "Médio   ACME                      H0 não pode ser rejeitada   \n",
       "        AXADEFEITO                             H0 rejeitada   \n",
       "Pequeno ACME                      H0 não pode ser rejeitada   \n",
       "        AXADEFEITO                H0 não pode ser rejeitada   \n",
       "\n",
       "                   Defeitos-ShapiroResultado  \\\n",
       "Grande  ACME                    H0 rejeitada   \n",
       "        AXADEFEITO              H0 rejeitada   \n",
       "Médio   ACME                    H0 rejeitada   \n",
       "        AXADEFEITO              H0 rejeitada   \n",
       "Pequeno ACME                    H0 rejeitada   \n",
       "        AXADEFEITO              H0 rejeitada   \n",
       "\n",
       "                   Tempo Inspeçao (horas)-ShapiroResultado  \n",
       "Grande  ACME                                  H0 rejeitada  \n",
       "        AXADEFEITO                            H0 rejeitada  \n",
       "Médio   ACME                                  H0 rejeitada  \n",
       "        AXADEFEITO                            H0 rejeitada  \n",
       "Pequeno ACME                                  H0 rejeitada  \n",
       "        AXADEFEITO                            H0 rejeitada  "
      ]
     },
     "execution_count": 27,
     "metadata": {},
     "output_type": "execute_result"
    }
   ],
   "source": [
    "results[['#Defeitos/TempoInspecao-ShapiroResultado',\n",
    " 'Defeitos-ShapiroResultado',\n",
    " 'Tempo Inspeçao (horas)-ShapiroResultado']]"
   ]
  },
  {
   "cell_type": "markdown",
   "metadata": {},
   "source": [
    "Temos então as colunas 'Defeitos' e 'Tempo Inspeção (horas)' em todos os agrupamentos feitos possuem distribuição normal. E na coluna '#Defeitos/TempoInsepeção' apenas a amostra que apresenta dados de projetos de porte Médio com a técnica Axadefeito possui distribuição normal"
   ]
  },
  {
   "cell_type": "markdown",
   "metadata": {},
   "source": [
    "### Utilização do teste de levene para identificar a homocedasticidade dos dados de tempo de Inspeção"
   ]
  },
  {
   "cell_type": "markdown",
   "metadata": {},
   "source": [
    "#### Foram realizado 2 testes, um teste para identificar homocedasticidade entre amostras que possuem o mesmo porte e outro teste para identificar homocedasticidade entre amostras que possuem mesma técnica\n",
    "\n",
    "O teste formula a seguinte hipótese:\n",
    "\n",
    "Hipótese nula (H0): As variâncias dos grupos são iguais.\n",
    "\n",
    "Hipótese alternativa (H1): Pelo menos uma das variâncias dos grupos é diferente das outras.\n",
    "\n",
    "Se o resultado do teste de Levene for significativo (geralmente se o valor p for menor que 0,05, mas isso pode depender do nível de significância escolhido), você rejeita a hipótese nula e conclui que há evidências de que as variâncias dos grupos não são iguais.\n",
    "\n",
    "Ao encontrar heterocedasticidade (variâncias desiguais entre os grupos), pode ser necessário realizar transformações nos dados ou recorrer a técnicas estatísticas robustas que não assumem homogeneidade de variâncias."
   ]
  },
  {
   "cell_type": "code",
   "execution_count": 28,
   "metadata": {},
   "outputs": [
    {
     "data": {
      "text/plain": [
       "{'ACME': LeveneResult(statistic=0.1598406430857783, pvalue=0.8525107503294878),\n",
       " 'AXADEFEITO': LeveneResult(statistic=1.1698168439269472, pvalue=0.31509846911496975),\n",
       " 'Grande': LeveneResult(statistic=0.42505093706928343, pvalue=0.5160184105552446),\n",
       " 'Médio': LeveneResult(statistic=0.7759874568209109, pvalue=0.38285370280367303),\n",
       " 'Pequeno': LeveneResult(statistic=0.003000457046364036, pvalue=0.9565702982310833)}"
      ]
     },
     "execution_count": 28,
     "metadata": {},
     "output_type": "execute_result"
    }
   ],
   "source": [
    "# Não consigo rejeitar a hipotese nula de que a variancia populacionais são iguais das amostras \n",
    "# de uma mesma técnica e portes distintos e de um mesmo porte e técnicas distintas\n",
    "teste_levene(projetos_utilizaveis)"
   ]
  },
  {
   "cell_type": "markdown",
   "metadata": {},
   "source": [
    "Em nenhum dos agrupamentos foi possivel rejeitar a hipotese nula do teste de levene, então para realizar os testes de hipotese desse estudo precisaremos recorrer a metódos não-paramétricos"
   ]
  },
  {
   "cell_type": "markdown",
   "metadata": {},
   "source": [
    "### Teste de Mann-Whitney U"
   ]
  },
  {
   "cell_type": "code",
   "execution_count": 29,
   "metadata": {},
   "outputs": [
    {
     "data": {
      "text/html": [
       "<div>\n",
       "<style scoped>\n",
       "    .dataframe tbody tr th:only-of-type {\n",
       "        vertical-align: middle;\n",
       "    }\n",
       "\n",
       "    .dataframe tbody tr th {\n",
       "        vertical-align: top;\n",
       "    }\n",
       "\n",
       "    .dataframe thead th {\n",
       "        text-align: right;\n",
       "    }\n",
       "</style>\n",
       "<table border=\"1\" class=\"dataframe\">\n",
       "  <thead>\n",
       "    <tr style=\"text-align: right;\">\n",
       "      <th></th>\n",
       "      <th>Tempo Inspeçao (horas)</th>\n",
       "      <th>Defeitos</th>\n",
       "      <th>#Defeitos/TempoInspecao</th>\n",
       "    </tr>\n",
       "  </thead>\n",
       "  <tbody>\n",
       "    <tr>\n",
       "      <th>Grande</th>\n",
       "      <td>(1131.5, 0.8862362086249319)</td>\n",
       "      <td>(1131.5, 0.8862362086249319)</td>\n",
       "      <td>(1151.5, 1.0)</td>\n",
       "    </tr>\n",
       "    <tr>\n",
       "      <th>Médio</th>\n",
       "      <td>(268.0, 0.5408252698113492)</td>\n",
       "      <td>(220.5, 0.11714995579089353)</td>\n",
       "      <td>(216.5, 0.10021982428903646)</td>\n",
       "    </tr>\n",
       "    <tr>\n",
       "      <th>Pequeno</th>\n",
       "      <td>(170.5, 0.06450566991909974)</td>\n",
       "      <td>(170.5, 0.06450566991909974)</td>\n",
       "      <td>(252.0, 1.0)</td>\n",
       "    </tr>\n",
       "  </tbody>\n",
       "</table>\n",
       "</div>"
      ],
      "text/plain": [
       "               Tempo Inspeçao (horas)                      Defeitos  \\\n",
       "Grande   (1131.5, 0.8862362086249319)  (1131.5, 0.8862362086249319)   \n",
       "Médio     (268.0, 0.5408252698113492)  (220.5, 0.11714995579089353)   \n",
       "Pequeno  (170.5, 0.06450566991909974)  (170.5, 0.06450566991909974)   \n",
       "\n",
       "              #Defeitos/TempoInspecao  \n",
       "Grande                  (1151.5, 1.0)  \n",
       "Médio    (216.5, 0.10021982428903646)  \n",
       "Pequeno                  (252.0, 1.0)  "
      ]
     },
     "execution_count": 29,
     "metadata": {},
     "output_type": "execute_result"
    }
   ],
   "source": [
    "teste_mannwhitneyu(porte_tecnica_group,colunas_de_interesse)"
   ]
  },
  {
   "cell_type": "markdown",
   "metadata": {},
   "source": [
    "Ao utilizar o teste de Mann-Whitney para testar amostras de mesmo porte e técnicas de diferente, nas colunas de interesse ('Tempo Inspeçao (horas)', 'Defeitos' e '#Defeitos/TempoInspecao') para o valor de alfa = 0.05, não seria possivel rejeitar a hipotése nula do teste de Mann-Whitney, assim não seria possivel afirmar que uma técnica é mais eficiente que outra. Contudo, para alfa = 0.10, seria possivel concluir que o a média de tempo de inspeção e a média da quantidade de defeitos encontrados por projeto de pequeno é distinta, contudo não como avaliar diferença de eficiência entre as técnicas em projetos de pequeno porte "
   ]
  },
  {
   "cell_type": "markdown",
   "metadata": {},
   "source": [
    "# Remoção dos outliers"
   ]
  },
  {
   "cell_type": "code",
   "execution_count": 30,
   "metadata": {},
   "outputs": [],
   "source": [
    "df_so_dti = pd.concat([remocao_todos_outliers(j,'#Defeitos/TempoInspecao') for i,j in porte_tecnica_group])\n",
    "df_so_ti = pd.concat([remocao_todos_outliers(j,'Tempo Inspeçao (horas)') for i,j in porte_tecnica_group])"
   ]
  },
  {
   "cell_type": "code",
   "execution_count": 31,
   "metadata": {},
   "outputs": [
    {
     "data": {
      "image/png": "[encoded data removed]",
      "text/plain": [
       "<Figure size 1500x500 with 3 Axes>"
      ]
     },
     "metadata": {},
     "output_type": "display_data"
    }
   ],
   "source": [
    "dist_cumulativa(df_so_ti)"
   ]
  },
  {
   "cell_type": "code",
   "execution_count": 32,
   "metadata": {},
   "outputs": [
    {
     "data": {
      "text/html": [
       "<div>\n",
       "<style scoped>\n",
       "    .dataframe tbody tr th:only-of-type {\n",
       "        vertical-align: middle;\n",
       "    }\n",
       "\n",
       "    .dataframe tbody tr th {\n",
       "        vertical-align: top;\n",
       "    }\n",
       "\n",
       "    .dataframe thead th {\n",
       "        text-align: right;\n",
       "    }\n",
       "</style>\n",
       "<table border=\"1\" class=\"dataframe\">\n",
       "  <thead>\n",
       "    <tr style=\"text-align: right;\">\n",
       "      <th></th>\n",
       "      <th></th>\n",
       "      <th>Projeto</th>\n",
       "    </tr>\n",
       "    <tr>\n",
       "      <th>Porte</th>\n",
       "      <th>Técnica</th>\n",
       "      <th></th>\n",
       "    </tr>\n",
       "  </thead>\n",
       "  <tbody>\n",
       "    <tr>\n",
       "      <th rowspan=\"2\" valign=\"top\">Grande</th>\n",
       "      <th>ACME</th>\n",
       "      <td>47</td>\n",
       "    </tr>\n",
       "    <tr>\n",
       "      <th>AXADEFEITO</th>\n",
       "      <td>49</td>\n",
       "    </tr>\n",
       "    <tr>\n",
       "      <th rowspan=\"2\" valign=\"top\">Médio</th>\n",
       "      <th>ACME</th>\n",
       "      <td>25</td>\n",
       "    </tr>\n",
       "    <tr>\n",
       "      <th>AXADEFEITO</th>\n",
       "      <td>18</td>\n",
       "    </tr>\n",
       "    <tr>\n",
       "      <th rowspan=\"2\" valign=\"top\">Pequeno</th>\n",
       "      <th>ACME</th>\n",
       "      <td>24</td>\n",
       "    </tr>\n",
       "    <tr>\n",
       "      <th>AXADEFEITO</th>\n",
       "      <td>21</td>\n",
       "    </tr>\n",
       "  </tbody>\n",
       "</table>\n",
       "</div>"
      ],
      "text/plain": [
       "                    Projeto\n",
       "Porte   Técnica            \n",
       "Grande  ACME             47\n",
       "        AXADEFEITO       49\n",
       "Médio   ACME             25\n",
       "        AXADEFEITO       18\n",
       "Pequeno ACME             24\n",
       "        AXADEFEITO       21"
      ]
     },
     "execution_count": 32,
     "metadata": {},
     "output_type": "execute_result"
    }
   ],
   "source": [
    "df_so_dti.groupby(by=['Porte','Técnica'])['Projeto'].count().to_frame()"
   ]
  },
  {
   "cell_type": "code",
   "execution_count": 33,
   "metadata": {},
   "outputs": [
    {
     "data": {
      "text/html": [
       "<div>\n",
       "<style scoped>\n",
       "    .dataframe tbody tr th:only-of-type {\n",
       "        vertical-align: middle;\n",
       "    }\n",
       "\n",
       "    .dataframe tbody tr th {\n",
       "        vertical-align: top;\n",
       "    }\n",
       "\n",
       "    .dataframe thead th {\n",
       "        text-align: right;\n",
       "    }\n",
       "</style>\n",
       "<table border=\"1\" class=\"dataframe\">\n",
       "  <thead>\n",
       "    <tr style=\"text-align: right;\">\n",
       "      <th></th>\n",
       "      <th></th>\n",
       "      <th>Projeto</th>\n",
       "    </tr>\n",
       "    <tr>\n",
       "      <th>Porte</th>\n",
       "      <th>Técnica</th>\n",
       "      <th></th>\n",
       "    </tr>\n",
       "  </thead>\n",
       "  <tbody>\n",
       "    <tr>\n",
       "      <th rowspan=\"2\" valign=\"top\">Grande</th>\n",
       "      <th>ACME</th>\n",
       "      <td>44</td>\n",
       "    </tr>\n",
       "    <tr>\n",
       "      <th>AXADEFEITO</th>\n",
       "      <td>47</td>\n",
       "    </tr>\n",
       "    <tr>\n",
       "      <th rowspan=\"2\" valign=\"top\">Médio</th>\n",
       "      <th>ACME</th>\n",
       "      <td>24</td>\n",
       "    </tr>\n",
       "    <tr>\n",
       "      <th>AXADEFEITO</th>\n",
       "      <td>22</td>\n",
       "    </tr>\n",
       "    <tr>\n",
       "      <th rowspan=\"2\" valign=\"top\">Pequeno</th>\n",
       "      <th>ACME</th>\n",
       "      <td>20</td>\n",
       "    </tr>\n",
       "    <tr>\n",
       "      <th>AXADEFEITO</th>\n",
       "      <td>21</td>\n",
       "    </tr>\n",
       "  </tbody>\n",
       "</table>\n",
       "</div>"
      ],
      "text/plain": [
       "                    Projeto\n",
       "Porte   Técnica            \n",
       "Grande  ACME             44\n",
       "        AXADEFEITO       47\n",
       "Médio   ACME             24\n",
       "        AXADEFEITO       22\n",
       "Pequeno ACME             20\n",
       "        AXADEFEITO       21"
      ]
     },
     "execution_count": 33,
     "metadata": {},
     "output_type": "execute_result"
    }
   ],
   "source": [
    "df_so_ti.groupby(by=['Porte','Técnica'])['Projeto'].count().to_frame()"
   ]
  },
  {
   "cell_type": "code",
   "execution_count": 34,
   "metadata": {},
   "outputs": [],
   "source": [
    "porte_tecnica_group_so_dti = df_so_dti.groupby(by=['Porte','Técnica'])\n",
    "porte_tecnica_group_so_ti = df_so_ti.groupby(by=['Porte','Técnica'])"
   ]
  },
  {
   "cell_type": "code",
   "execution_count": 35,
   "metadata": {},
   "outputs": [],
   "source": [
    "idx_list_dti, dict_tests_dti = teste_shapiro(porte_tecnica_group_so_dti,colunas_de_interesse)\n",
    "idx_list_ti, dict_tests_ti = teste_shapiro(porte_tecnica_group_so_ti,colunas_de_interesse)"
   ]
  },
  {
   "cell_type": "code",
   "execution_count": 36,
   "metadata": {},
   "outputs": [
    {
     "data": {
      "text/html": [
       "<div>\n",
       "<style scoped>\n",
       "    .dataframe tbody tr th:only-of-type {\n",
       "        vertical-align: middle;\n",
       "    }\n",
       "\n",
       "    .dataframe tbody tr th {\n",
       "        vertical-align: top;\n",
       "    }\n",
       "\n",
       "    .dataframe thead th {\n",
       "        text-align: right;\n",
       "    }\n",
       "</style>\n",
       "<table border=\"1\" class=\"dataframe\">\n",
       "  <thead>\n",
       "    <tr style=\"text-align: right;\">\n",
       "      <th></th>\n",
       "      <th></th>\n",
       "      <th>Tempo Inspeçao (horas)-Shapiro</th>\n",
       "      <th>Defeitos-Shapiro</th>\n",
       "      <th>#Defeitos/TempoInspecao-Shapiro</th>\n",
       "      <th>Tempo Inspeçao (horas)-ShapiroResultado</th>\n",
       "      <th>Defeitos-ShapiroResultado</th>\n",
       "      <th>#Defeitos/TempoInspecao-ShapiroResultado</th>\n",
       "    </tr>\n",
       "  </thead>\n",
       "  <tbody>\n",
       "    <tr>\n",
       "      <th rowspan=\"2\" valign=\"top\">Grande</th>\n",
       "      <th>ACME</th>\n",
       "      <td>(0.6524451971054077, 2.7145226066949135e-09)</td>\n",
       "      <td>(0.6524451971054077, 2.7145226066949135e-09)</td>\n",
       "      <td>(1.0, 1.0)</td>\n",
       "      <td>H0 rejeitada</td>\n",
       "      <td>H0 rejeitada</td>\n",
       "      <td>H0 não pode ser rejeitada</td>\n",
       "    </tr>\n",
       "    <tr>\n",
       "      <th>AXADEFEITO</th>\n",
       "      <td>(0.660088300704956, 2.1773671754488078e-09)</td>\n",
       "      <td>(0.660088300704956, 2.1773671754488078e-09)</td>\n",
       "      <td>(1.0, 1.0)</td>\n",
       "      <td>H0 rejeitada</td>\n",
       "      <td>H0 rejeitada</td>\n",
       "      <td>H0 não pode ser rejeitada</td>\n",
       "    </tr>\n",
       "    <tr>\n",
       "      <th rowspan=\"2\" valign=\"top\">Médio</th>\n",
       "      <th>ACME</th>\n",
       "      <td>(0.3897770047187805, 3.5934659692316018e-09)</td>\n",
       "      <td>(0.47317975759506226, 2.0549297374827802e-08)</td>\n",
       "      <td>(0.9806638360023499, 0.8979429006576538)</td>\n",
       "      <td>H0 rejeitada</td>\n",
       "      <td>H0 rejeitada</td>\n",
       "      <td>H0 não pode ser rejeitada</td>\n",
       "    </tr>\n",
       "    <tr>\n",
       "      <th>AXADEFEITO</th>\n",
       "      <td>(0.8613283038139343, 0.012844356708228588)</td>\n",
       "      <td>(0.8904672861099243, 0.039311230182647705)</td>\n",
       "      <td>(0.9235175848007202, 0.1492086797952652)</td>\n",
       "      <td>H0 rejeitada</td>\n",
       "      <td>H0 rejeitada</td>\n",
       "      <td>H0 não pode ser rejeitada</td>\n",
       "    </tr>\n",
       "    <tr>\n",
       "      <th rowspan=\"2\" valign=\"top\">Pequeno</th>\n",
       "      <th>ACME</th>\n",
       "      <td>(0.48917537927627563, 4.433870515185845e-08)</td>\n",
       "      <td>(0.48917537927627563, 4.433870515185845e-08)</td>\n",
       "      <td>(1.0, 1.0)</td>\n",
       "      <td>H0 rejeitada</td>\n",
       "      <td>H0 rejeitada</td>\n",
       "      <td>H0 não pode ser rejeitada</td>\n",
       "    </tr>\n",
       "    <tr>\n",
       "      <th>AXADEFEITO</th>\n",
       "      <td>(0.8885175585746765, 0.02108931913971901)</td>\n",
       "      <td>(0.8885175585746765, 0.02108931913971901)</td>\n",
       "      <td>(1.0, 1.0)</td>\n",
       "      <td>H0 rejeitada</td>\n",
       "      <td>H0 rejeitada</td>\n",
       "      <td>H0 não pode ser rejeitada</td>\n",
       "    </tr>\n",
       "  </tbody>\n",
       "</table>\n",
       "</div>"
      ],
      "text/plain": [
       "                                  Tempo Inspeçao (horas)-Shapiro  \\\n",
       "Grande  ACME        (0.6524451971054077, 2.7145226066949135e-09)   \n",
       "        AXADEFEITO   (0.660088300704956, 2.1773671754488078e-09)   \n",
       "Médio   ACME        (0.3897770047187805, 3.5934659692316018e-09)   \n",
       "        AXADEFEITO    (0.8613283038139343, 0.012844356708228588)   \n",
       "Pequeno ACME        (0.48917537927627563, 4.433870515185845e-08)   \n",
       "        AXADEFEITO     (0.8885175585746765, 0.02108931913971901)   \n",
       "\n",
       "                                                 Defeitos-Shapiro  \\\n",
       "Grande  ACME         (0.6524451971054077, 2.7145226066949135e-09)   \n",
       "        AXADEFEITO    (0.660088300704956, 2.1773671754488078e-09)   \n",
       "Médio   ACME        (0.47317975759506226, 2.0549297374827802e-08)   \n",
       "        AXADEFEITO     (0.8904672861099243, 0.039311230182647705)   \n",
       "Pequeno ACME         (0.48917537927627563, 4.433870515185845e-08)   \n",
       "        AXADEFEITO      (0.8885175585746765, 0.02108931913971901)   \n",
       "\n",
       "                             #Defeitos/TempoInspecao-Shapiro  \\\n",
       "Grande  ACME                                      (1.0, 1.0)   \n",
       "        AXADEFEITO                                (1.0, 1.0)   \n",
       "Médio   ACME        (0.9806638360023499, 0.8979429006576538)   \n",
       "        AXADEFEITO  (0.9235175848007202, 0.1492086797952652)   \n",
       "Pequeno ACME                                      (1.0, 1.0)   \n",
       "        AXADEFEITO                                (1.0, 1.0)   \n",
       "\n",
       "                   Tempo Inspeçao (horas)-ShapiroResultado  \\\n",
       "Grande  ACME                                  H0 rejeitada   \n",
       "        AXADEFEITO                            H0 rejeitada   \n",
       "Médio   ACME                                  H0 rejeitada   \n",
       "        AXADEFEITO                            H0 rejeitada   \n",
       "Pequeno ACME                                  H0 rejeitada   \n",
       "        AXADEFEITO                            H0 rejeitada   \n",
       "\n",
       "                   Defeitos-ShapiroResultado  \\\n",
       "Grande  ACME                    H0 rejeitada   \n",
       "        AXADEFEITO              H0 rejeitada   \n",
       "Médio   ACME                    H0 rejeitada   \n",
       "        AXADEFEITO              H0 rejeitada   \n",
       "Pequeno ACME                    H0 rejeitada   \n",
       "        AXADEFEITO              H0 rejeitada   \n",
       "\n",
       "                   #Defeitos/TempoInspecao-ShapiroResultado  \n",
       "Grande  ACME                      H0 não pode ser rejeitada  \n",
       "        AXADEFEITO                H0 não pode ser rejeitada  \n",
       "Médio   ACME                      H0 não pode ser rejeitada  \n",
       "        AXADEFEITO                H0 não pode ser rejeitada  \n",
       "Pequeno ACME                      H0 não pode ser rejeitada  \n",
       "        AXADEFEITO                H0 não pode ser rejeitada  "
      ]
     },
     "execution_count": 36,
     "metadata": {},
     "output_type": "execute_result"
    }
   ],
   "source": [
    "avaliacao_teste_shapiro(idx_list_dti,dict_tests_dti,alfa=0.05)"
   ]
  },
  {
   "cell_type": "code",
   "execution_count": 37,
   "metadata": {},
   "outputs": [
    {
     "data": {
      "text/html": [
       "<div>\n",
       "<style scoped>\n",
       "    .dataframe tbody tr th:only-of-type {\n",
       "        vertical-align: middle;\n",
       "    }\n",
       "\n",
       "    .dataframe tbody tr th {\n",
       "        vertical-align: top;\n",
       "    }\n",
       "\n",
       "    .dataframe thead th {\n",
       "        text-align: right;\n",
       "    }\n",
       "</style>\n",
       "<table border=\"1\" class=\"dataframe\">\n",
       "  <thead>\n",
       "    <tr style=\"text-align: right;\">\n",
       "      <th></th>\n",
       "      <th></th>\n",
       "      <th>Tempo Inspeçao (horas)-Shapiro</th>\n",
       "      <th>Defeitos-Shapiro</th>\n",
       "      <th>#Defeitos/TempoInspecao-Shapiro</th>\n",
       "      <th>Tempo Inspeçao (horas)-ShapiroResultado</th>\n",
       "      <th>Defeitos-ShapiroResultado</th>\n",
       "      <th>#Defeitos/TempoInspecao-ShapiroResultado</th>\n",
       "    </tr>\n",
       "  </thead>\n",
       "  <tbody>\n",
       "    <tr>\n",
       "      <th rowspan=\"2\" valign=\"top\">Grande</th>\n",
       "      <th>ACME</th>\n",
       "      <td>(0.8856297731399536, 0.00040518378955312073)</td>\n",
       "      <td>(0.8856297731399536, 0.00040518378955312073)</td>\n",
       "      <td>(1.0, 1.0)</td>\n",
       "      <td>H0 rejeitada</td>\n",
       "      <td>H0 rejeitada</td>\n",
       "      <td>H0 não pode ser rejeitada</td>\n",
       "    </tr>\n",
       "    <tr>\n",
       "      <th>AXADEFEITO</th>\n",
       "      <td>(0.9379268288612366, 0.014882960356771946)</td>\n",
       "      <td>(0.9379268288612366, 0.014882960356771946)</td>\n",
       "      <td>(1.0, 1.0)</td>\n",
       "      <td>H0 rejeitada</td>\n",
       "      <td>H0 rejeitada</td>\n",
       "      <td>H0 não pode ser rejeitada</td>\n",
       "    </tr>\n",
       "    <tr>\n",
       "      <th rowspan=\"2\" valign=\"top\">Médio</th>\n",
       "      <th>ACME</th>\n",
       "      <td>(0.9717548489570618, 0.7103837132453918)</td>\n",
       "      <td>(0.8784918785095215, 0.007750254590064287)</td>\n",
       "      <td>(0.9257597923278809, 0.07839958369731903)</td>\n",
       "      <td>H0 não pode ser rejeitada</td>\n",
       "      <td>H0 rejeitada</td>\n",
       "      <td>H0 não pode ser rejeitada</td>\n",
       "    </tr>\n",
       "    <tr>\n",
       "      <th>AXADEFEITO</th>\n",
       "      <td>(0.9514228701591492, 0.3369480073451996)</td>\n",
       "      <td>(0.9113417267799377, 0.050425175577402115)</td>\n",
       "      <td>(0.9001866579055786, 0.029982300475239754)</td>\n",
       "      <td>H0 não pode ser rejeitada</td>\n",
       "      <td>H0 não pode ser rejeitada</td>\n",
       "      <td>H0 rejeitada</td>\n",
       "    </tr>\n",
       "    <tr>\n",
       "      <th rowspan=\"2\" valign=\"top\">Pequeno</th>\n",
       "      <th>ACME</th>\n",
       "      <td>(0.9132116436958313, 0.07340069115161896)</td>\n",
       "      <td>(0.9132116436958313, 0.07340069115161896)</td>\n",
       "      <td>(1.0, 1.0)</td>\n",
       "      <td>H0 não pode ser rejeitada</td>\n",
       "      <td>H0 não pode ser rejeitada</td>\n",
       "      <td>H0 não pode ser rejeitada</td>\n",
       "    </tr>\n",
       "    <tr>\n",
       "      <th>AXADEFEITO</th>\n",
       "      <td>(0.8885175585746765, 0.02108931913971901)</td>\n",
       "      <td>(0.8885175585746765, 0.02108931913971901)</td>\n",
       "      <td>(1.0, 1.0)</td>\n",
       "      <td>H0 rejeitada</td>\n",
       "      <td>H0 rejeitada</td>\n",
       "      <td>H0 não pode ser rejeitada</td>\n",
       "    </tr>\n",
       "  </tbody>\n",
       "</table>\n",
       "</div>"
      ],
      "text/plain": [
       "                                  Tempo Inspeçao (horas)-Shapiro  \\\n",
       "Grande  ACME        (0.8856297731399536, 0.00040518378955312073)   \n",
       "        AXADEFEITO    (0.9379268288612366, 0.014882960356771946)   \n",
       "Médio   ACME            (0.9717548489570618, 0.7103837132453918)   \n",
       "        AXADEFEITO      (0.9514228701591492, 0.3369480073451996)   \n",
       "Pequeno ACME           (0.9132116436958313, 0.07340069115161896)   \n",
       "        AXADEFEITO     (0.8885175585746765, 0.02108931913971901)   \n",
       "\n",
       "                                                Defeitos-Shapiro  \\\n",
       "Grande  ACME        (0.8856297731399536, 0.00040518378955312073)   \n",
       "        AXADEFEITO    (0.9379268288612366, 0.014882960356771946)   \n",
       "Médio   ACME          (0.8784918785095215, 0.007750254590064287)   \n",
       "        AXADEFEITO    (0.9113417267799377, 0.050425175577402115)   \n",
       "Pequeno ACME           (0.9132116436958313, 0.07340069115161896)   \n",
       "        AXADEFEITO     (0.8885175585746765, 0.02108931913971901)   \n",
       "\n",
       "                               #Defeitos/TempoInspecao-Shapiro  \\\n",
       "Grande  ACME                                        (1.0, 1.0)   \n",
       "        AXADEFEITO                                  (1.0, 1.0)   \n",
       "Médio   ACME         (0.9257597923278809, 0.07839958369731903)   \n",
       "        AXADEFEITO  (0.9001866579055786, 0.029982300475239754)   \n",
       "Pequeno ACME                                        (1.0, 1.0)   \n",
       "        AXADEFEITO                                  (1.0, 1.0)   \n",
       "\n",
       "                   Tempo Inspeçao (horas)-ShapiroResultado  \\\n",
       "Grande  ACME                                  H0 rejeitada   \n",
       "        AXADEFEITO                            H0 rejeitada   \n",
       "Médio   ACME                     H0 não pode ser rejeitada   \n",
       "        AXADEFEITO               H0 não pode ser rejeitada   \n",
       "Pequeno ACME                     H0 não pode ser rejeitada   \n",
       "        AXADEFEITO                            H0 rejeitada   \n",
       "\n",
       "                    Defeitos-ShapiroResultado  \\\n",
       "Grande  ACME                     H0 rejeitada   \n",
       "        AXADEFEITO               H0 rejeitada   \n",
       "Médio   ACME                     H0 rejeitada   \n",
       "        AXADEFEITO  H0 não pode ser rejeitada   \n",
       "Pequeno ACME        H0 não pode ser rejeitada   \n",
       "        AXADEFEITO               H0 rejeitada   \n",
       "\n",
       "                   #Defeitos/TempoInspecao-ShapiroResultado  \n",
       "Grande  ACME                      H0 não pode ser rejeitada  \n",
       "        AXADEFEITO                H0 não pode ser rejeitada  \n",
       "Médio   ACME                      H0 não pode ser rejeitada  \n",
       "        AXADEFEITO                             H0 rejeitada  \n",
       "Pequeno ACME                      H0 não pode ser rejeitada  \n",
       "        AXADEFEITO                H0 não pode ser rejeitada  "
      ]
     },
     "execution_count": 37,
     "metadata": {},
     "output_type": "execute_result"
    }
   ],
   "source": [
    "avaliacao_teste_shapiro(idx_list_ti,dict_tests_ti,alfa=0.05)"
   ]
  },
  {
   "cell_type": "code",
   "execution_count": 38,
   "metadata": {},
   "outputs": [
    {
     "data": {
      "text/plain": [
       "{'ACME': LeveneResult(statistic=0.15707037856770403, pvalue=0.854870149286194),\n",
       " 'AXADEFEITO': LeveneResult(statistic=0.7757275327469797, pvalue=0.4636000472187636),\n",
       " 'Grande': LeveneResult(statistic=0.42505093706928343, pvalue=0.5160184105552446),\n",
       " 'Médio': LeveneResult(statistic=0.5845306750091859, pvalue=0.4489200921050053),\n",
       " 'Pequeno': LeveneResult(statistic=0.003000457046364036, pvalue=0.9565702982310833)}"
      ]
     },
     "execution_count": 38,
     "metadata": {},
     "output_type": "execute_result"
    }
   ],
   "source": [
    "teste_levene(df_so_dti)"
   ]
  },
  {
   "cell_type": "code",
   "execution_count": 39,
   "metadata": {},
   "outputs": [
    {
     "data": {
      "text/plain": [
       "{'ACME': LeveneResult(statistic=7.231611499696145, pvalue=0.001257902279199466),\n",
       " 'AXADEFEITO': LeveneResult(statistic=3.010319974741589, pvalue=0.054436091986716825),\n",
       " 'Grande': LeveneResult(statistic=0.39058826550763565, pvalue=0.5335894331631206),\n",
       " 'Médio': LeveneResult(statistic=0.01509376322597679, pvalue=0.9027800554873622),\n",
       " 'Pequeno': LeveneResult(statistic=9.97373606517994, pvalue=0.0030618950185192914)}"
      ]
     },
     "execution_count": 39,
     "metadata": {},
     "output_type": "execute_result"
    }
   ],
   "source": [
    "teste_levene(df_so_ti)"
   ]
  },
  {
   "cell_type": "markdown",
   "metadata": {},
   "source": [
    "Olhando os dados de Tempo de Inspeção, temos que as amostras de projetos de pequeno porte tem homocedasticidade, contudo projetos de pequeno porte que usam a técnica ACME não apresentam uma distribuição normal. E apesar dos projetos que usam a Técnica da ACME apresentam homocedasticidade, projetos de pequeno e é médio porte que usam a técnica da ACME não apresentam distribuição normal. Com isso, usaremos apenas testes de hipotése não parametricos "
   ]
  },
  {
   "cell_type": "code",
   "execution_count": 40,
   "metadata": {},
   "outputs": [
    {
     "data": {
      "text/html": [
       "<div>\n",
       "<style scoped>\n",
       "    .dataframe tbody tr th:only-of-type {\n",
       "        vertical-align: middle;\n",
       "    }\n",
       "\n",
       "    .dataframe tbody tr th {\n",
       "        vertical-align: top;\n",
       "    }\n",
       "\n",
       "    .dataframe thead th {\n",
       "        text-align: right;\n",
       "    }\n",
       "</style>\n",
       "<table border=\"1\" class=\"dataframe\">\n",
       "  <thead>\n",
       "    <tr style=\"text-align: right;\">\n",
       "      <th></th>\n",
       "      <th>Tempo Inspeçao (horas)</th>\n",
       "      <th>Defeitos</th>\n",
       "      <th>#Defeitos/TempoInspecao</th>\n",
       "    </tr>\n",
       "  </thead>\n",
       "  <tbody>\n",
       "    <tr>\n",
       "      <th>Grande</th>\n",
       "      <td>(1131.5, 0.8862362086249319)</td>\n",
       "      <td>(1131.5, 0.8862362086249319)</td>\n",
       "      <td>(1151.5, 1.0)</td>\n",
       "    </tr>\n",
       "    <tr>\n",
       "      <th>Médio</th>\n",
       "      <td>(197.0, 0.4979980256337464)</td>\n",
       "      <td>(130.0, 0.019562203780744775)</td>\n",
       "      <td>(123.5, 0.012848128493903628)</td>\n",
       "    </tr>\n",
       "    <tr>\n",
       "      <th>Pequeno</th>\n",
       "      <td>(170.5, 0.06450566991909974)</td>\n",
       "      <td>(170.5, 0.06450566991909974)</td>\n",
       "      <td>(252.0, 1.0)</td>\n",
       "    </tr>\n",
       "  </tbody>\n",
       "</table>\n",
       "</div>"
      ],
      "text/plain": [
       "               Tempo Inspeçao (horas)                       Defeitos  \\\n",
       "Grande   (1131.5, 0.8862362086249319)   (1131.5, 0.8862362086249319)   \n",
       "Médio     (197.0, 0.4979980256337464)  (130.0, 0.019562203780744775)   \n",
       "Pequeno  (170.5, 0.06450566991909974)   (170.5, 0.06450566991909974)   \n",
       "\n",
       "               #Defeitos/TempoInspecao  \n",
       "Grande                   (1151.5, 1.0)  \n",
       "Médio    (123.5, 0.012848128493903628)  \n",
       "Pequeno                   (252.0, 1.0)  "
      ]
     },
     "execution_count": 40,
     "metadata": {},
     "output_type": "execute_result"
    }
   ],
   "source": [
    "teste_mannwhitneyu(porte_tecnica_group_so_dti,colunas_de_interesse)"
   ]
  },
  {
   "cell_type": "markdown",
   "metadata": {},
   "source": [
    "Ao remover outliers presentes na coluna '#Defeitos/TempoInspecao', temos que em projetos de Médio porte há evidência que é possivel rejeitar a hipotése nula de que a média da eficiência de ambas as técnicas de inspeção são iguais"
   ]
  },
  {
   "cell_type": "code",
   "execution_count": 41,
   "metadata": {},
   "outputs": [
    {
     "data": {
      "text/html": [
       "<div>\n",
       "<style scoped>\n",
       "    .dataframe tbody tr th:only-of-type {\n",
       "        vertical-align: middle;\n",
       "    }\n",
       "\n",
       "    .dataframe tbody tr th {\n",
       "        vertical-align: top;\n",
       "    }\n",
       "\n",
       "    .dataframe thead th {\n",
       "        text-align: right;\n",
       "    }\n",
       "</style>\n",
       "<table border=\"1\" class=\"dataframe\">\n",
       "  <thead>\n",
       "    <tr style=\"text-align: right;\">\n",
       "      <th></th>\n",
       "      <th>Tempo Inspeçao (horas)</th>\n",
       "      <th>Defeitos</th>\n",
       "      <th>#Defeitos/TempoInspecao</th>\n",
       "    </tr>\n",
       "  </thead>\n",
       "  <tbody>\n",
       "    <tr>\n",
       "      <th>Grande</th>\n",
       "      <td>(987.5, 0.714536105014925)</td>\n",
       "      <td>(987.5, 0.714536105014925)</td>\n",
       "      <td>(1034.0, 1.0)</td>\n",
       "    </tr>\n",
       "    <tr>\n",
       "      <th>Médio</th>\n",
       "      <td>(223.0, 0.37263058123841597)</td>\n",
       "      <td>(177.0, 0.05634967397818717)</td>\n",
       "      <td>(194.5, 0.1289290535989367)</td>\n",
       "    </tr>\n",
       "    <tr>\n",
       "      <th>Pequeno</th>\n",
       "      <td>(99.5, 0.003966149721504965)</td>\n",
       "      <td>(99.5, 0.003966149721504965)</td>\n",
       "      <td>(210.0, 1.0)</td>\n",
       "    </tr>\n",
       "  </tbody>\n",
       "</table>\n",
       "</div>"
      ],
      "text/plain": [
       "               Tempo Inspeçao (horas)                      Defeitos  \\\n",
       "Grande     (987.5, 0.714536105014925)    (987.5, 0.714536105014925)   \n",
       "Médio    (223.0, 0.37263058123841597)  (177.0, 0.05634967397818717)   \n",
       "Pequeno  (99.5, 0.003966149721504965)  (99.5, 0.003966149721504965)   \n",
       "\n",
       "             #Defeitos/TempoInspecao  \n",
       "Grande                 (1034.0, 1.0)  \n",
       "Médio    (194.5, 0.1289290535989367)  \n",
       "Pequeno                 (210.0, 1.0)  "
      ]
     },
     "execution_count": 41,
     "metadata": {},
     "output_type": "execute_result"
    }
   ],
   "source": [
    "teste_mannwhitneyu(porte_tecnica_group_so_ti,colunas_de_interesse)"
   ]
  },
  {
   "cell_type": "markdown",
   "metadata": {},
   "source": [
    "Ao remover outlier presentes na coluna 'Tempo Inspecao (horas)', temos que em projetos de pequeno porte há evidência que é possivel rejeitar a hipotése nula de que a média de tempo gasto com inspeção de ambas as técnicas de inspeção são iguais"
   ]
  },
  {
   "cell_type": "markdown",
   "metadata": {},
   "source": [
    "<img src=\"https://static.wikia.nocookie.net/looneytunes/images/2/22/WileThatsAllFolks.png/revision/latest?cb=20180510012629\">"
   ]
  }
 ],
 "metadata": {
  "kernelspec": {
   "display_name": "Python 3",
   "language": "python",
   "name": "python3"
  },
  "language_info": {
   "codemirror_mode": {
    "name": "ipython",
    "version": 3
   },
   "file_extension": ".py",
   "mimetype": "text/x-python",
   "name": "python",
   "nbconvert_exporter": "python",
   "pygments_lexer": "ipython3",
   "version": "3.10.12"
  },
  "orig_nbformat": 4
 },
 "nbformat": 4,
 "nbformat_minor": 2
}
