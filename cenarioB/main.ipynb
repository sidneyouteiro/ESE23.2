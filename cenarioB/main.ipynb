{
 "cells": [
  {
   "cell_type": "markdown",
   "metadata": {},
   "source": [
    "# Importação das bibliotecas utilizadas na Analise"
   ]
  },
  {
   "cell_type": "code",
   "execution_count": 1,
   "metadata": {},
   "outputs": [],
   "source": [
    "import pandas as pd\n",
    "import numpy as np\n",
    "import seaborn as sns\n",
    "\n",
    "from utils.B_utils import agrupar, plot_boxplot"
   ]
  },
  {
   "cell_type": "markdown",
   "metadata": {},
   "source": [
    "# Conjunto de dados fornecidos pela empresa ACME"
   ]
  },
  {
   "cell_type": "markdown",
   "metadata": {},
   "source": [
    "<img src=\"https://www.beaconjournal.com/gcdn/presto/2022/02/17/NABJ/9f2016aa-be3c-4dbb-a1cb-0de34fb5a69e-Coyote_Acme_Warner_Bros..jpg?width=660&height=330&fit=crop&format=pjpg&auto=webp\">"
   ]
  },
  {
   "cell_type": "code",
   "execution_count": 2,
   "metadata": {},
   "outputs": [],
   "source": [
    "( \n",
    "    axadefeito,acme,\n",
    "    participacao,\n",
    "    desenvolvedores\n",
    ") = pd.read_excel('../ACME_dataset_1.xlsx',sheet_name=None).values()"
   ]
  },
  {
   "cell_type": "markdown",
   "metadata": {},
   "source": [
    "# Pré-processamento dos dados"
   ]
  },
  {
   "cell_type": "markdown",
   "metadata": {},
   "source": [
    "## Agrupando os dados de projetos que utilizaram a técnica ad-hoc e a técnica axadefeito no mesmo dataframe"
   ]
  },
  {
   "cell_type": "code",
   "execution_count": 3,
   "metadata": {},
   "outputs": [
    {
     "data": {
      "text/html": [
       "<div>\n",
       "<style scoped>\n",
       "    .dataframe tbody tr th:only-of-type {\n",
       "        vertical-align: middle;\n",
       "    }\n",
       "\n",
       "    .dataframe tbody tr th {\n",
       "        vertical-align: top;\n",
       "    }\n",
       "\n",
       "    .dataframe thead th {\n",
       "        text-align: right;\n",
       "    }\n",
       "</style>\n",
       "<table border=\"1\" class=\"dataframe\">\n",
       "  <thead>\n",
       "    <tr style=\"text-align: right;\">\n",
       "      <th></th>\n",
       "      <th>Projeto</th>\n",
       "      <th>Porte</th>\n",
       "      <th>Técnica</th>\n",
       "      <th>Tempo Inspeçao (horas)</th>\n",
       "      <th>Defeitos</th>\n",
       "      <th>Esforço (h/h)</th>\n",
       "      <th>Tamanho (Kloc)</th>\n",
       "      <th>Produtividade (kloc/mês)</th>\n",
       "      <th>SUCESSO</th>\n",
       "    </tr>\n",
       "  </thead>\n",
       "  <tbody>\n",
       "    <tr>\n",
       "      <th>0</th>\n",
       "      <td>1</td>\n",
       "      <td>Pequeno</td>\n",
       "      <td>ACME</td>\n",
       "      <td>0.0</td>\n",
       "      <td>0</td>\n",
       "      <td>5.25</td>\n",
       "      <td>7</td>\n",
       "      <td>5.333333</td>\n",
       "      <td>NaN</td>\n",
       "    </tr>\n",
       "    <tr>\n",
       "      <th>1</th>\n",
       "      <td>2</td>\n",
       "      <td>Pequeno</td>\n",
       "      <td>ACME</td>\n",
       "      <td>0.0</td>\n",
       "      <td>0</td>\n",
       "      <td>7.50</td>\n",
       "      <td>10</td>\n",
       "      <td>5.333333</td>\n",
       "      <td>NaN</td>\n",
       "    </tr>\n",
       "    <tr>\n",
       "      <th>2</th>\n",
       "      <td>3</td>\n",
       "      <td>Pequeno</td>\n",
       "      <td>AXADEFEITO</td>\n",
       "      <td>0.0</td>\n",
       "      <td>0</td>\n",
       "      <td>7.50</td>\n",
       "      <td>10</td>\n",
       "      <td>5.333333</td>\n",
       "      <td>NaN</td>\n",
       "    </tr>\n",
       "    <tr>\n",
       "      <th>3</th>\n",
       "      <td>4</td>\n",
       "      <td>Pequeno</td>\n",
       "      <td>AXADEFEITO</td>\n",
       "      <td>0.0</td>\n",
       "      <td>0</td>\n",
       "      <td>8.00</td>\n",
       "      <td>7</td>\n",
       "      <td>3.500000</td>\n",
       "      <td>NaN</td>\n",
       "    </tr>\n",
       "    <tr>\n",
       "      <th>4</th>\n",
       "      <td>5</td>\n",
       "      <td>Médio</td>\n",
       "      <td>ACME</td>\n",
       "      <td>4.0</td>\n",
       "      <td>0</td>\n",
       "      <td>39.25</td>\n",
       "      <td>51</td>\n",
       "      <td>5.197452</td>\n",
       "      <td>NaN</td>\n",
       "    </tr>\n",
       "  </tbody>\n",
       "</table>\n",
       "</div>"
      ],
      "text/plain": [
       "   Projeto    Porte     Técnica  Tempo Inspeçao (horas)  Defeitos  \\\n",
       "0        1  Pequeno        ACME                     0.0         0   \n",
       "1        2  Pequeno        ACME                     0.0         0   \n",
       "2        3  Pequeno  AXADEFEITO                     0.0         0   \n",
       "3        4  Pequeno  AXADEFEITO                     0.0         0   \n",
       "4        5    Médio        ACME                     4.0         0   \n",
       "\n",
       "   Esforço (h/h)  Tamanho (Kloc)  Produtividade (kloc/mês) SUCESSO  \n",
       "0           5.25               7                  5.333333     NaN  \n",
       "1           7.50              10                  5.333333     NaN  \n",
       "2           7.50              10                  5.333333     NaN  \n",
       "3           8.00               7                  3.500000     NaN  \n",
       "4          39.25              51                  5.197452     NaN  "
      ]
     },
     "execution_count": 3,
     "metadata": {},
     "output_type": "execute_result"
    }
   ],
   "source": [
    "projetos = pd.concat([acme,axadefeito]).sort_values(by='Projeto').reset_index(drop=True)\n",
    "projetos.head()"
   ]
  },
  {
   "cell_type": "markdown",
   "metadata": {},
   "source": [
    "### Preenchendo os valores nulos da coluna SUCESSO do dataframe de projetos"
   ]
  },
  {
   "cell_type": "code",
   "execution_count": 4,
   "metadata": {},
   "outputs": [],
   "source": [
    "projetos.loc[\n",
    "    (projetos['SUCESSO'].isna())|\n",
    "    (projetos['SUCESSO'] == ' ')\n",
    "    ,'SUCESSO'] = 'Y' "
   ]
  },
  {
   "cell_type": "markdown",
   "metadata": {},
   "source": [
    "### Realizando a indexação dos dados de participação pelo identificador do projeto"
   ]
  },
  {
   "cell_type": "code",
   "execution_count": 5,
   "metadata": {},
   "outputs": [],
   "source": [
    "participacao = participacao.set_index('Projeto')"
   ]
  },
  {
   "cell_type": "markdown",
   "metadata": {},
   "source": [
    "### Tratando os nomes de colunas que ficam os identificadores dos desenvolvedores"
   ]
  },
  {
   "cell_type": "code",
   "execution_count": 6,
   "metadata": {},
   "outputs": [],
   "source": [
    "participacao.columns = participacao.columns.str.replace('Unnamed: ', '')"
   ]
  },
  {
   "cell_type": "markdown",
   "metadata": {},
   "source": [
    "### Criação dos nomes de colunas que irão contabilizar a distribuições de experiência por fator de perfil de desenvolvedor"
   ]
  },
  {
   "cell_type": "code",
   "execution_count": 7,
   "metadata": {},
   "outputs": [],
   "source": [
    "agg_xp_columns = ['ExperienciaRequisitos','ExperienciaProjeto','ExperienciaCodificacao']\n",
    "agg_xp_columns = sorted([i+j for j in ['_L','_M','_H'] for i in agg_xp_columns])\n",
    "agg_style_columns = ['Estilo1_INTUITIVO','Estilo1_RACIONAL','Estilo2_INTROVERTIDO','Estilo2_EXTROVERTIDO']"
   ]
  },
  {
   "cell_type": "markdown",
   "metadata": {},
   "source": [
    "### Criação da coluna que terá uma lista com todos identificadores de desenvolvedores que estão presentes no projeto. Nesse procedimento serão excluidos identificadores de desenvolvedores duplicados"
   ]
  },
  {
   "cell_type": "code",
   "execution_count": 8,
   "metadata": {},
   "outputs": [],
   "source": [
    "participacao['time'] = (\n",
    "    participacao.drop(columns=['Porte']).apply(lambda x: list(x.dropna().unique()), axis=1)\n",
    ")"
   ]
  },
  {
   "cell_type": "markdown",
   "metadata": {},
   "source": [
    "### Criação da coluna que irá contabilizar a quantidade de identificadores de desenvolvedores para cada projeto"
   ]
  },
  {
   "cell_type": "code",
   "execution_count": 9,
   "metadata": {},
   "outputs": [],
   "source": [
    "participacao['len_time'] = participacao['time'].map(lambda x: len(x))"
   ]
  },
  {
   "cell_type": "markdown",
   "metadata": {},
   "source": [
    "### Criação do Dataframe que relaciona a participação com o perfil dos devs, todas as colunas relacionadas ao perfil dos desenvolvedores presentes no projeto será inicializada com 0"
   ]
  },
  {
   "cell_type": "code",
   "execution_count": 10,
   "metadata": {},
   "outputs": [
    {
     "data": {
      "text/html": [
       "<div>\n",
       "<style scoped>\n",
       "    .dataframe tbody tr th:only-of-type {\n",
       "        vertical-align: middle;\n",
       "    }\n",
       "\n",
       "    .dataframe tbody tr th {\n",
       "        vertical-align: top;\n",
       "    }\n",
       "\n",
       "    .dataframe thead th {\n",
       "        text-align: right;\n",
       "    }\n",
       "</style>\n",
       "<table border=\"1\" class=\"dataframe\">\n",
       "  <thead>\n",
       "    <tr style=\"text-align: right;\">\n",
       "      <th></th>\n",
       "      <th>Porte</th>\n",
       "      <th>Técnica</th>\n",
       "      <th>ExperienciaCodificacao_H</th>\n",
       "      <th>ExperienciaCodificacao_L</th>\n",
       "      <th>ExperienciaCodificacao_M</th>\n",
       "      <th>ExperienciaProjeto_H</th>\n",
       "      <th>ExperienciaProjeto_L</th>\n",
       "      <th>ExperienciaProjeto_M</th>\n",
       "      <th>ExperienciaRequisitos_H</th>\n",
       "      <th>ExperienciaRequisitos_L</th>\n",
       "      <th>ExperienciaRequisitos_M</th>\n",
       "      <th>Estilo1_INTUITIVO</th>\n",
       "      <th>Estilo1_RACIONAL</th>\n",
       "      <th>Estilo2_INTROVERTIDO</th>\n",
       "      <th>Estilo2_EXTROVERTIDO</th>\n",
       "    </tr>\n",
       "    <tr>\n",
       "      <th>Projeto</th>\n",
       "      <th></th>\n",
       "      <th></th>\n",
       "      <th></th>\n",
       "      <th></th>\n",
       "      <th></th>\n",
       "      <th></th>\n",
       "      <th></th>\n",
       "      <th></th>\n",
       "      <th></th>\n",
       "      <th></th>\n",
       "      <th></th>\n",
       "      <th></th>\n",
       "      <th></th>\n",
       "      <th></th>\n",
       "      <th></th>\n",
       "    </tr>\n",
       "  </thead>\n",
       "  <tbody>\n",
       "    <tr>\n",
       "      <th>190</th>\n",
       "      <td>Pequeno</td>\n",
       "      <td>ACME</td>\n",
       "      <td>0</td>\n",
       "      <td>0</td>\n",
       "      <td>0</td>\n",
       "      <td>0</td>\n",
       "      <td>0</td>\n",
       "      <td>0</td>\n",
       "      <td>0</td>\n",
       "      <td>0</td>\n",
       "      <td>0</td>\n",
       "      <td>0</td>\n",
       "      <td>0</td>\n",
       "      <td>0</td>\n",
       "      <td>0</td>\n",
       "    </tr>\n",
       "    <tr>\n",
       "      <th>191</th>\n",
       "      <td>Grande</td>\n",
       "      <td>ACME</td>\n",
       "      <td>0</td>\n",
       "      <td>0</td>\n",
       "      <td>0</td>\n",
       "      <td>0</td>\n",
       "      <td>0</td>\n",
       "      <td>0</td>\n",
       "      <td>0</td>\n",
       "      <td>0</td>\n",
       "      <td>0</td>\n",
       "      <td>0</td>\n",
       "      <td>0</td>\n",
       "      <td>0</td>\n",
       "      <td>0</td>\n",
       "    </tr>\n",
       "    <tr>\n",
       "      <th>192</th>\n",
       "      <td>Grande</td>\n",
       "      <td>AXADEFEITO</td>\n",
       "      <td>0</td>\n",
       "      <td>0</td>\n",
       "      <td>0</td>\n",
       "      <td>0</td>\n",
       "      <td>0</td>\n",
       "      <td>0</td>\n",
       "      <td>0</td>\n",
       "      <td>0</td>\n",
       "      <td>0</td>\n",
       "      <td>0</td>\n",
       "      <td>0</td>\n",
       "      <td>0</td>\n",
       "      <td>0</td>\n",
       "    </tr>\n",
       "    <tr>\n",
       "      <th>193</th>\n",
       "      <td>Grande</td>\n",
       "      <td>ACME</td>\n",
       "      <td>0</td>\n",
       "      <td>0</td>\n",
       "      <td>0</td>\n",
       "      <td>0</td>\n",
       "      <td>0</td>\n",
       "      <td>0</td>\n",
       "      <td>0</td>\n",
       "      <td>0</td>\n",
       "      <td>0</td>\n",
       "      <td>0</td>\n",
       "      <td>0</td>\n",
       "      <td>0</td>\n",
       "      <td>0</td>\n",
       "    </tr>\n",
       "    <tr>\n",
       "      <th>194</th>\n",
       "      <td>Médio</td>\n",
       "      <td>ACME</td>\n",
       "      <td>0</td>\n",
       "      <td>0</td>\n",
       "      <td>0</td>\n",
       "      <td>0</td>\n",
       "      <td>0</td>\n",
       "      <td>0</td>\n",
       "      <td>0</td>\n",
       "      <td>0</td>\n",
       "      <td>0</td>\n",
       "      <td>0</td>\n",
       "      <td>0</td>\n",
       "      <td>0</td>\n",
       "      <td>0</td>\n",
       "    </tr>\n",
       "  </tbody>\n",
       "</table>\n",
       "</div>"
      ],
      "text/plain": [
       "           Porte     Técnica  ExperienciaCodificacao_H  \\\n",
       "Projeto                                                  \n",
       "190      Pequeno        ACME                         0   \n",
       "191       Grande        ACME                         0   \n",
       "192       Grande  AXADEFEITO                         0   \n",
       "193       Grande        ACME                         0   \n",
       "194        Médio        ACME                         0   \n",
       "\n",
       "         ExperienciaCodificacao_L  ExperienciaCodificacao_M  \\\n",
       "Projeto                                                       \n",
       "190                             0                         0   \n",
       "191                             0                         0   \n",
       "192                             0                         0   \n",
       "193                             0                         0   \n",
       "194                             0                         0   \n",
       "\n",
       "         ExperienciaProjeto_H  ExperienciaProjeto_L  ExperienciaProjeto_M  \\\n",
       "Projeto                                                                     \n",
       "190                         0                     0                     0   \n",
       "191                         0                     0                     0   \n",
       "192                         0                     0                     0   \n",
       "193                         0                     0                     0   \n",
       "194                         0                     0                     0   \n",
       "\n",
       "         ExperienciaRequisitos_H  ExperienciaRequisitos_L  \\\n",
       "Projeto                                                     \n",
       "190                            0                        0   \n",
       "191                            0                        0   \n",
       "192                            0                        0   \n",
       "193                            0                        0   \n",
       "194                            0                        0   \n",
       "\n",
       "         ExperienciaRequisitos_M  Estilo1_INTUITIVO  Estilo1_RACIONAL  \\\n",
       "Projeto                                                                 \n",
       "190                            0                  0                 0   \n",
       "191                            0                  0                 0   \n",
       "192                            0                  0                 0   \n",
       "193                            0                  0                 0   \n",
       "194                            0                  0                 0   \n",
       "\n",
       "         Estilo2_INTROVERTIDO  Estilo2_EXTROVERTIDO  \n",
       "Projeto                                              \n",
       "190                         0                     0  \n",
       "191                         0                     0  \n",
       "192                         0                     0  \n",
       "193                         0                     0  \n",
       "194                         0                     0  "
      ]
     },
     "execution_count": 10,
     "metadata": {},
     "output_type": "execute_result"
    }
   ],
   "source": [
    "wanted_columns =  agg_xp_columns + agg_style_columns\n",
    "part_x_dev = projetos[['Projeto','Porte','Técnica']].copy()\n",
    "part_x_dev[wanted_columns] = 0\n",
    "part_x_dev = part_x_dev.set_index('Projeto')\n",
    "part_x_dev.tail()"
   ]
  },
  {
   "cell_type": "markdown",
   "metadata": {},
   "source": [
    "### Avaliando quais identificadores dos desenvolvedores foram comprometidos, e contabilizando os fatores de devs por projeto"
   ]
  },
  {
   "cell_type": "code",
   "execution_count": 11,
   "metadata": {},
   "outputs": [
    {
     "name": "stdout",
     "output_type": "stream",
     "text": [
      "Houve um erro referente ao dado: projeto 2 ; dev D0018\n",
      "Houve um erro referente ao dado: projeto 40 ; dev D0101\n",
      "Houve um erro referente ao dado: projeto 68 ; dev D0018\n",
      "Houve um erro referente ao dado: projeto 106 ; dev D0102\n",
      "Houve um erro referente ao dado: projeto 157 ; dev D0102\n",
      "Houve um erro referente ao dado: projeto 165 ; dev D0102\n",
      "Houve um erro referente ao dado: projeto 175 ; dev D0102\n",
      "Houve um erro referente ao dado: projeto 191 ; dev D0101\n",
      "Houve um erro referente ao dado: projeto 193 ; dev D0101\n",
      "Houve um erro referente ao dado: projeto 194 ; dev D0101\n"
     ]
    }
   ],
   "source": [
    "dev_tag_comprometidos = []\n",
    "for projeto_index in range(1,195):\n",
    "    for desenvolvedor_index in range(2,26):\n",
    "        if not (projeto_index in participacao.index): break \n",
    "        dev_tag = participacao.loc[projeto_index,str(desenvolvedor_index)]\n",
    "        if type(dev_tag) == float: break\n",
    "\n",
    "        dev_profile_row = desenvolvedores.loc[desenvolvedores['IDENTIFICADOR']==dev_tag]\n",
    "        try:\n",
    "            _, xp_requisitos, xp_projetos, xp_codificacao, estilo = dev_profile_row.values.tolist()[0]\n",
    "        except:\n",
    "            print(f'Houve um erro referente ao dado: projeto {projeto_index} ; dev {dev_tag}')\n",
    "            dev_tag_comprometidos.append((projeto_index,dev_tag))\n",
    "        else:\n",
    "            estilo1, estilo2 = estilo.split('/')\n",
    "\n",
    "            part_x_dev.loc[projeto_index,'ExperienciaRequisitos_'+xp_requisitos] += 1\n",
    "            part_x_dev.loc[projeto_index,'ExperienciaProjeto_'+xp_projetos] += 1\n",
    "            part_x_dev.loc[projeto_index,'ExperienciaCodificacao_'+xp_codificacao] += 1\n",
    "            part_x_dev.loc[projeto_index,'Estilo1_'+estilo1] += 1\n",
    "            part_x_dev.loc[projeto_index,'Estilo2_'+estilo2] += 1"
   ]
  },
  {
   "cell_type": "markdown",
   "metadata": {},
   "source": [
    "### Identificação dos projetos foram possiveis identificar algum participante"
   ]
  },
  {
   "cell_type": "code",
   "execution_count": 12,
   "metadata": {},
   "outputs": [],
   "source": [
    "part_x_dev = part_x_dev.merge(participacao[['len_time']],on='Projeto',how='left')\n",
    "part_x_dev['len_time'] = part_x_dev['len_time'].fillna(0.0) "
   ]
  },
  {
   "cell_type": "markdown",
   "metadata": {},
   "source": [
    "### Correção do tamanho do time em função dos identificadores comprometidos"
   ]
  },
  {
   "cell_type": "code",
   "execution_count": 13,
   "metadata": {},
   "outputs": [],
   "source": [
    "for i,j in dev_tag_comprometidos:\n",
    "    part_x_dev.loc[i,'len_time'] -= 1"
   ]
  },
  {
   "cell_type": "markdown",
   "metadata": {},
   "source": [
    "### Distribuição de projetos em função do porte e tamanho do time "
   ]
  },
  {
   "cell_type": "code",
   "execution_count": 14,
   "metadata": {},
   "outputs": [
    {
     "data": {
      "text/plain": [
       "Porte    len_time\n",
       "Grande   0.0         49\n",
       "         23.0        22\n",
       "         24.0         9\n",
       "         22.0         8\n",
       "         21.0         5\n",
       "         12.0         1\n",
       "         19.0         1\n",
       "         20.0         1\n",
       "Médio    12.0        24\n",
       "         0.0         23\n",
       "         11.0         2\n",
       "Pequeno  4.0         25\n",
       "         0.0         23\n",
       "         3.0          1\n",
       "Name: len_time, dtype: int64"
      ]
     },
     "execution_count": 14,
     "metadata": {},
     "output_type": "execute_result"
    }
   ],
   "source": [
    "part_x_dev.groupby(by=['Porte'])['len_time'].value_counts()"
   ]
  },
  {
   "cell_type": "markdown",
   "metadata": {},
   "source": [
    "Diante da distribuição de projetos acima, temos que não há nenhum projeto de grande porte com quantidade significativa de membros identificáveis. Diante desse problema, serão considerados projetos de grande porte que possuam mais de 22 integrantes identificáveis, essa decisão irá adicionar um risco de validade de conclusão do estudo"
   ]
  },
  {
   "cell_type": "markdown",
   "metadata": {},
   "source": [
    "### Utilização apenas dos data points que cumprem um dos seguintes requisitos:\n",
    "1. Projeto de grande porte com tamanho do time (identificavel) maior ou igual a 23 pessoas\n",
    "2. Projeto de médio porte com tamanho do time (identificavel) igual a 12 pessoas\n",
    "3. Projeto de pequeno porte com tamanho do time (identificavel) igual a 4 pessoas"
   ]
  },
  {
   "cell_type": "code",
   "execution_count": 15,
   "metadata": {},
   "outputs": [
    {
     "data": {
      "text/plain": [
       "Grande     31\n",
       "Pequeno    25\n",
       "Médio      24\n",
       "Name: Porte, dtype: int64"
      ]
     },
     "execution_count": 15,
     "metadata": {},
     "output_type": "execute_result"
    }
   ],
   "source": [
    "part_x_dev_utilizavel = part_x_dev.loc[\n",
    "    ((part_x_dev[\"Porte\"]==\"Grande\") & (part_x_dev['len_time']>=23))|\n",
    "    ((part_x_dev[\"Porte\"]==\"Médio\") & (part_x_dev['len_time']==12))|\n",
    "    ((part_x_dev[\"Porte\"]==\"Pequeno\") & (part_x_dev['len_time']==4))\n",
    "].copy()\n",
    "part_x_dev_utilizavel.Porte.value_counts()"
   ]
  },
  {
   "cell_type": "markdown",
   "metadata": {},
   "source": [
    "### Função para determinar o rank de cada fator de experiência e estilo de trabalho"
   ]
  },
  {
   "cell_type": "code",
   "execution_count": 16,
   "metadata": {},
   "outputs": [],
   "source": [
    "for i,j in [(0,3),(3,6),(6,9)]:\n",
    "    column_name = wanted_columns[i:j][0].split('_')[0]\n",
    "    part_x_dev_utilizavel[column_name+'Rank'] = (part_x_dev_utilizavel[wanted_columns[i:j]] * [3,1,2]).sum(axis=1)\n",
    "\n",
    "for i,j in [(9,11),(11,13)]:\n",
    "    column_name = wanted_columns[i:j][0].split('_')[0]\n",
    "    part_x_dev_utilizavel[column_name+'Rank'] = (part_x_dev_utilizavel[wanted_columns[i:j]] * [1,2]).sum(axis=1)"
   ]
  },
  {
   "cell_type": "markdown",
   "metadata": {},
   "source": [
    "### Descarte das colunas de Técnica e as colunas que contabilizava a experiencia e estilo de trabalho presente em cada projeto"
   ]
  },
  {
   "cell_type": "code",
   "execution_count": 17,
   "metadata": {},
   "outputs": [],
   "source": [
    "part_x_dev_utilizavel = part_x_dev_utilizavel.drop(columns=wanted_columns+['Técnica'])"
   ]
  },
  {
   "cell_type": "markdown",
   "metadata": {},
   "source": [
    "### Gerando o rank percentual"
   ]
  },
  {
   "cell_type": "code",
   "execution_count": 18,
   "metadata": {},
   "outputs": [],
   "source": [
    "rank_columns = [\n",
    "    'ExperienciaCodificacaoRank','ExperienciaProjetoRank',\n",
    "    'ExperienciaRequisitosRank','Estilo1Rank','Estilo2Rank'\n",
    "]\n",
    "\n",
    "for i in rank_columns:\n",
    "    qtd_valores_possiveis = len(part_x_dev_utilizavel[i].unique())\n",
    "    part_x_dev_utilizavel[i] /= part_x_dev_utilizavel['len_time'] * qtd_valores_possiveis"
   ]
  },
  {
   "cell_type": "markdown",
   "metadata": {},
   "source": [
    "### Adicionando a coluna de SUCESSO"
   ]
  },
  {
   "cell_type": "code",
   "execution_count": 19,
   "metadata": {},
   "outputs": [],
   "source": [
    "sucess_projetos = projetos.drop(columns=['Porte','Técnica','Tempo Inspeçao (horas)', \n",
    "                                'Defeitos','Esforço (h/h)', 'Tamanho (Kloc)', \n",
    "                                'Produtividade (kloc/mês)']).set_index('Projeto')"
   ]
  },
  {
   "cell_type": "code",
   "execution_count": 20,
   "metadata": {},
   "outputs": [],
   "source": [
    "rank_df = part_x_dev_utilizavel.drop(columns=['len_time']).merge(sucess_projetos,on='Projeto')"
   ]
  },
  {
   "cell_type": "code",
   "execution_count": 21,
   "metadata": {},
   "outputs": [
    {
     "data": {
      "image/png": "[encoded data removed]",
      "text/plain": [
       "<Figure size 1200x700 with 6 Axes>"
      ]
     },
     "metadata": {},
     "output_type": "display_data"
    }
   ],
   "source": [
    "plot_boxplot(rank_df,rank_columns)"
   ]
  },
  {
   "cell_type": "code",
   "execution_count": 22,
   "metadata": {},
   "outputs": [],
   "source": [
    "from scipy.stats import shapiro, kruskal\n",
    "\n",
    "aux_test = []\n",
    "for column in rank_columns:\n",
    "    aux = rank_df.groupby(by=['Porte','SUCESSO'])[column].apply(lambda x: shapiro(x)).to_frame()\n",
    "    aux_test.append(aux)"
   ]
  },
  {
   "cell_type": "code",
   "execution_count": 23,
   "metadata": {},
   "outputs": [
    {
     "data": {
      "text/html": [
       "<div>\n",
       "<style scoped>\n",
       "    .dataframe tbody tr th:only-of-type {\n",
       "        vertical-align: middle;\n",
       "    }\n",
       "\n",
       "    .dataframe tbody tr th {\n",
       "        vertical-align: top;\n",
       "    }\n",
       "\n",
       "    .dataframe thead th {\n",
       "        text-align: right;\n",
       "    }\n",
       "</style>\n",
       "<table border=\"1\" class=\"dataframe\">\n",
       "  <thead>\n",
       "    <tr style=\"text-align: right;\">\n",
       "      <th></th>\n",
       "      <th></th>\n",
       "      <th>ExperienciaCodificacaoRank-ShapiroResult</th>\n",
       "      <th>ExperienciaProjetoRank-ShapiroResult</th>\n",
       "      <th>ExperienciaRequisitosRank-ShapiroResult</th>\n",
       "      <th>Estilo1Rank-ShapiroResult</th>\n",
       "      <th>Estilo2Rank-ShapiroResult</th>\n",
       "    </tr>\n",
       "    <tr>\n",
       "      <th>Porte</th>\n",
       "      <th>SUCESSO</th>\n",
       "      <th></th>\n",
       "      <th></th>\n",
       "      <th></th>\n",
       "      <th></th>\n",
       "      <th></th>\n",
       "    </tr>\n",
       "  </thead>\n",
       "  <tbody>\n",
       "    <tr>\n",
       "      <th rowspan=\"2\" valign=\"top\">Grande</th>\n",
       "      <th>N</th>\n",
       "      <td>Sem evidência para rejeitar H0</td>\n",
       "      <td>Sem evidência para rejeitar H0</td>\n",
       "      <td>Sem evidência para rejeitar H0</td>\n",
       "      <td>Sem evidência para rejeitar H0</td>\n",
       "      <td>Sem evidência para rejeitar H0</td>\n",
       "    </tr>\n",
       "    <tr>\n",
       "      <th>Y</th>\n",
       "      <td>Sem evidência para rejeitar H0</td>\n",
       "      <td>Normal</td>\n",
       "      <td>Sem evidência para rejeitar H0</td>\n",
       "      <td>Sem evidência para rejeitar H0</td>\n",
       "      <td>Sem evidência para rejeitar H0</td>\n",
       "    </tr>\n",
       "    <tr>\n",
       "      <th rowspan=\"2\" valign=\"top\">Médio</th>\n",
       "      <th>N</th>\n",
       "      <td>Normal</td>\n",
       "      <td>Sem evidência para rejeitar H0</td>\n",
       "      <td>Sem evidência para rejeitar H0</td>\n",
       "      <td>Sem evidência para rejeitar H0</td>\n",
       "      <td>Sem evidência para rejeitar H0</td>\n",
       "    </tr>\n",
       "    <tr>\n",
       "      <th>Y</th>\n",
       "      <td>Sem evidência para rejeitar H0</td>\n",
       "      <td>Normal</td>\n",
       "      <td>Sem evidência para rejeitar H0</td>\n",
       "      <td>Sem evidência para rejeitar H0</td>\n",
       "      <td>Normal</td>\n",
       "    </tr>\n",
       "    <tr>\n",
       "      <th rowspan=\"2\" valign=\"top\">Pequeno</th>\n",
       "      <th>N</th>\n",
       "      <td>Sem evidência para rejeitar H0</td>\n",
       "      <td>Normal</td>\n",
       "      <td>Sem evidência para rejeitar H0</td>\n",
       "      <td>Sem evidência para rejeitar H0</td>\n",
       "      <td>Sem evidência para rejeitar H0</td>\n",
       "    </tr>\n",
       "    <tr>\n",
       "      <th>Y</th>\n",
       "      <td>Sem evidência para rejeitar H0</td>\n",
       "      <td>Sem evidência para rejeitar H0</td>\n",
       "      <td>Sem evidência para rejeitar H0</td>\n",
       "      <td>Normal</td>\n",
       "      <td>Sem evidência para rejeitar H0</td>\n",
       "    </tr>\n",
       "  </tbody>\n",
       "</table>\n",
       "</div>"
      ],
      "text/plain": [
       "                ExperienciaCodificacaoRank-ShapiroResult  \\\n",
       "Porte   SUCESSO                                            \n",
       "Grande  N                 Sem evidência para rejeitar H0   \n",
       "        Y                 Sem evidência para rejeitar H0   \n",
       "Médio   N                                         Normal   \n",
       "        Y                 Sem evidência para rejeitar H0   \n",
       "Pequeno N                 Sem evidência para rejeitar H0   \n",
       "        Y                 Sem evidência para rejeitar H0   \n",
       "\n",
       "                ExperienciaProjetoRank-ShapiroResult  \\\n",
       "Porte   SUCESSO                                        \n",
       "Grande  N             Sem evidência para rejeitar H0   \n",
       "        Y                                     Normal   \n",
       "Médio   N             Sem evidência para rejeitar H0   \n",
       "        Y                                     Normal   \n",
       "Pequeno N                                     Normal   \n",
       "        Y             Sem evidência para rejeitar H0   \n",
       "\n",
       "                ExperienciaRequisitosRank-ShapiroResult  \\\n",
       "Porte   SUCESSO                                           \n",
       "Grande  N                Sem evidência para rejeitar H0   \n",
       "        Y                Sem evidência para rejeitar H0   \n",
       "Médio   N                Sem evidência para rejeitar H0   \n",
       "        Y                Sem evidência para rejeitar H0   \n",
       "Pequeno N                Sem evidência para rejeitar H0   \n",
       "        Y                Sem evidência para rejeitar H0   \n",
       "\n",
       "                      Estilo1Rank-ShapiroResult  \\\n",
       "Porte   SUCESSO                                   \n",
       "Grande  N        Sem evidência para rejeitar H0   \n",
       "        Y        Sem evidência para rejeitar H0   \n",
       "Médio   N        Sem evidência para rejeitar H0   \n",
       "        Y        Sem evidência para rejeitar H0   \n",
       "Pequeno N        Sem evidência para rejeitar H0   \n",
       "        Y                                Normal   \n",
       "\n",
       "                      Estilo2Rank-ShapiroResult  \n",
       "Porte   SUCESSO                                  \n",
       "Grande  N        Sem evidência para rejeitar H0  \n",
       "        Y        Sem evidência para rejeitar H0  \n",
       "Médio   N        Sem evidência para rejeitar H0  \n",
       "        Y                                Normal  \n",
       "Pequeno N        Sem evidência para rejeitar H0  \n",
       "        Y        Sem evidência para rejeitar H0  "
      ]
     },
     "execution_count": 23,
     "metadata": {},
     "output_type": "execute_result"
    }
   ],
   "source": [
    "df_shapiro = pd.concat(aux_test,axis=1)\n",
    "alfa = 0.05\n",
    "for coluna in df_shapiro.columns:\n",
    "    df_shapiro.loc[:,coluna+'-ShapiroResult'] = df_shapiro[coluna].map(lambda x: 'Normal' if x[1] < alfa else 'Sem evidência para rejeitar H0')\n",
    "df_shapiro[[i for i in df_shapiro.columns if 'ShapiroResult' in i]]"
   ]
  },
  {
   "cell_type": "markdown",
   "metadata": {},
   "source": [
    "Diante dos testes de shapiro-wilk, podemos observar que, em nenhum agrupamento teríamos todas as amostras com distribuição normal para realizar testes de homocedasticidade. Assim, não poderemos realizar testes de hipotése usando teste paramétricos"
   ]
  },
  {
   "cell_type": "code",
   "execution_count": 24,
   "metadata": {},
   "outputs": [],
   "source": [
    "sucesso_porte_group = rank_df.groupby(by=['Porte','SUCESSO'])\n",
    "\n",
    "results = {}\n",
    "for (idx1, a), (idx2, b) in agrupar(sucesso_porte_group):\n",
    "    porte = idx1[0]\n",
    "    results[porte] = []\n",
    "    for coluna in rank_columns:\n",
    "        results[porte].append(kruskal(a[coluna], b[coluna]))"
   ]
  },
  {
   "cell_type": "code",
   "execution_count": 25,
   "metadata": {},
   "outputs": [
    {
     "data": {
      "text/html": [
       "<div>\n",
       "<style scoped>\n",
       "    .dataframe tbody tr th:only-of-type {\n",
       "        vertical-align: middle;\n",
       "    }\n",
       "\n",
       "    .dataframe tbody tr th {\n",
       "        vertical-align: top;\n",
       "    }\n",
       "\n",
       "    .dataframe thead th {\n",
       "        text-align: right;\n",
       "    }\n",
       "</style>\n",
       "<table border=\"1\" class=\"dataframe\">\n",
       "  <thead>\n",
       "    <tr style=\"text-align: right;\">\n",
       "      <th></th>\n",
       "      <th>ExperienciaCodificacaoRank</th>\n",
       "      <th>ExperienciaProjetoRank</th>\n",
       "      <th>ExperienciaRequisitosRank</th>\n",
       "      <th>Estilo1Rank</th>\n",
       "      <th>Estilo2Rank</th>\n",
       "    </tr>\n",
       "  </thead>\n",
       "  <tbody>\n",
       "    <tr>\n",
       "      <th>Grande</th>\n",
       "      <td>(0.6116470025510163, 0.43416835768255535)</td>\n",
       "      <td>(5.401849217638706, 0.020115427574545947)</td>\n",
       "      <td>(0.1101075705297341, 0.7400217015281307)</td>\n",
       "      <td>(0.2033366765509725, 0.6520409505325979)</td>\n",
       "      <td>(0.0022668772668731434, 0.9620256798183219)</td>\n",
       "    </tr>\n",
       "    <tr>\n",
       "      <th>Médio</th>\n",
       "      <td>(0.2169639742307609, 0.6413630187959578)</td>\n",
       "      <td>(0.15849271510607363, 0.6905480452832351)</td>\n",
       "      <td>(0.08260188454254333, 0.7738018995124711)</td>\n",
       "      <td>(0.06563296207324884, 0.79780466337339)</td>\n",
       "      <td>(0.3973597030911405, 0.5284559759044363)</td>\n",
       "    </tr>\n",
       "    <tr>\n",
       "      <th>Pequeno</th>\n",
       "      <td>(0.0008981605671657433, 0.9760915156012935)</td>\n",
       "      <td>(0.7081948258418935, 0.40004373808385263)</td>\n",
       "      <td>(0.3195519780946202, 0.5718770141608498)</td>\n",
       "      <td>(0.06043513295730811, 0.8058095123289444)</td>\n",
       "      <td>(0.9353306540007427, 0.3334815780767019)</td>\n",
       "    </tr>\n",
       "  </tbody>\n",
       "</table>\n",
       "</div>"
      ],
      "text/plain": [
       "                          ExperienciaCodificacaoRank  \\\n",
       "Grande     (0.6116470025510163, 0.43416835768255535)   \n",
       "Médio       (0.2169639742307609, 0.6413630187959578)   \n",
       "Pequeno  (0.0008981605671657433, 0.9760915156012935)   \n",
       "\n",
       "                            ExperienciaProjetoRank  \\\n",
       "Grande   (5.401849217638706, 0.020115427574545947)   \n",
       "Médio    (0.15849271510607363, 0.6905480452832351)   \n",
       "Pequeno  (0.7081948258418935, 0.40004373808385263)   \n",
       "\n",
       "                         ExperienciaRequisitosRank  \\\n",
       "Grande    (0.1101075705297341, 0.7400217015281307)   \n",
       "Médio    (0.08260188454254333, 0.7738018995124711)   \n",
       "Pequeno   (0.3195519780946202, 0.5718770141608498)   \n",
       "\n",
       "                                       Estilo1Rank  \\\n",
       "Grande    (0.2033366765509725, 0.6520409505325979)   \n",
       "Médio      (0.06563296207324884, 0.79780466337339)   \n",
       "Pequeno  (0.06043513295730811, 0.8058095123289444)   \n",
       "\n",
       "                                         Estilo2Rank  \n",
       "Grande   (0.0022668772668731434, 0.9620256798183219)  \n",
       "Médio       (0.3973597030911405, 0.5284559759044363)  \n",
       "Pequeno     (0.9353306540007427, 0.3334815780767019)  "
      ]
     },
     "execution_count": 25,
     "metadata": {},
     "output_type": "execute_result"
    }
   ],
   "source": [
    "df_result = pd.DataFrame(results,index=rank_columns).T\n",
    "df_result"
   ]
  },
  {
   "cell_type": "code",
   "execution_count": 26,
   "metadata": {},
   "outputs": [
    {
     "data": {
      "text/html": [
       "<div>\n",
       "<style scoped>\n",
       "    .dataframe tbody tr th:only-of-type {\n",
       "        vertical-align: middle;\n",
       "    }\n",
       "\n",
       "    .dataframe tbody tr th {\n",
       "        vertical-align: top;\n",
       "    }\n",
       "\n",
       "    .dataframe thead th {\n",
       "        text-align: right;\n",
       "    }\n",
       "</style>\n",
       "<table border=\"1\" class=\"dataframe\">\n",
       "  <thead>\n",
       "    <tr style=\"text-align: right;\">\n",
       "      <th></th>\n",
       "      <th>ExperienciaCodificacaoRank</th>\n",
       "      <th>ExperienciaProjetoRank</th>\n",
       "      <th>ExperienciaRequisitosRank</th>\n",
       "      <th>Estilo1Rank</th>\n",
       "      <th>Estilo2Rank</th>\n",
       "    </tr>\n",
       "  </thead>\n",
       "  <tbody>\n",
       "    <tr>\n",
       "      <th>Grande</th>\n",
       "      <td>H0 não pode ser rejeitada</td>\n",
       "      <td>H0 rejeitada</td>\n",
       "      <td>H0 não pode ser rejeitada</td>\n",
       "      <td>H0 não pode ser rejeitada</td>\n",
       "      <td>H0 não pode ser rejeitada</td>\n",
       "    </tr>\n",
       "    <tr>\n",
       "      <th>Médio</th>\n",
       "      <td>H0 não pode ser rejeitada</td>\n",
       "      <td>H0 não pode ser rejeitada</td>\n",
       "      <td>H0 não pode ser rejeitada</td>\n",
       "      <td>H0 não pode ser rejeitada</td>\n",
       "      <td>H0 não pode ser rejeitada</td>\n",
       "    </tr>\n",
       "    <tr>\n",
       "      <th>Pequeno</th>\n",
       "      <td>H0 não pode ser rejeitada</td>\n",
       "      <td>H0 não pode ser rejeitada</td>\n",
       "      <td>H0 não pode ser rejeitada</td>\n",
       "      <td>H0 não pode ser rejeitada</td>\n",
       "      <td>H0 não pode ser rejeitada</td>\n",
       "    </tr>\n",
       "  </tbody>\n",
       "</table>\n",
       "</div>"
      ],
      "text/plain": [
       "        ExperienciaCodificacaoRank     ExperienciaProjetoRank  \\\n",
       "Grande   H0 não pode ser rejeitada               H0 rejeitada   \n",
       "Médio    H0 não pode ser rejeitada  H0 não pode ser rejeitada   \n",
       "Pequeno  H0 não pode ser rejeitada  H0 não pode ser rejeitada   \n",
       "\n",
       "         ExperienciaRequisitosRank                Estilo1Rank  \\\n",
       "Grande   H0 não pode ser rejeitada  H0 não pode ser rejeitada   \n",
       "Médio    H0 não pode ser rejeitada  H0 não pode ser rejeitada   \n",
       "Pequeno  H0 não pode ser rejeitada  H0 não pode ser rejeitada   \n",
       "\n",
       "                       Estilo2Rank  \n",
       "Grande   H0 não pode ser rejeitada  \n",
       "Médio    H0 não pode ser rejeitada  \n",
       "Pequeno  H0 não pode ser rejeitada  "
      ]
     },
     "execution_count": 26,
     "metadata": {},
     "output_type": "execute_result"
    }
   ],
   "source": [
    "alfa = 0.05\n",
    "for column in df_result.columns:\n",
    "    df_result.loc[:, column] = df_result[column].map(lambda x: 'H0 rejeitada' if x[1] < alfa else 'H0 não pode ser rejeitada')\n",
    "df_result"
   ]
  },
  {
   "cell_type": "markdown",
   "metadata": {},
   "source": [
    "Ao testarmos cada uma das colunas de rank atrelado ao perfil do time que realizou o projeto, e agruparmos em porte do projeto e se o projeto foi um sucesso ou não. Fomos capazes de testar a hipotése que há diferença estátistica entre amostras de mesmo porte mas que obtiveram desfechos distintos (sucesso ou insucesso). Através do teste de Kruskal-Wallis temos que podemos rejeitar a Hipotese Nula em projetos de grande porte quando se trata do fator de experiência em projetos. Assim, temos que há evidências de que o fator de experiência de projetos é uma caracteristica que impacta a taxa de sucesso de projetos de grande porte"
   ]
  },
  {
   "cell_type": "markdown",
   "metadata": {},
   "source": [
    "<img src=\"https://static.wikia.nocookie.net/looneytunes/images/2/22/WileThatsAllFolks.png/revision/latest?cb=20180510012629\">"
   ]
  }
 ],
 "metadata": {
  "kernelspec": {
   "display_name": "Python 3 (ipykernel)",
   "language": "python",
   "name": "python3"
  },
  "language_info": {
   "codemirror_mode": {
    "name": "ipython",
    "version": 3
   },
   "file_extension": ".py",
   "mimetype": "text/x-python",
   "name": "python",
   "nbconvert_exporter": "python",
   "pygments_lexer": "ipython3",
   "version": "3.10.12"
  }
 },
 "nbformat": 4,
 "nbformat_minor": 4
}
